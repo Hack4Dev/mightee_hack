{
 "cells": [
  {
   "cell_type": "markdown",
   "id": "7fbd1e73-f67a-4c1e-b93e-a62ed16d936d",
   "metadata": {},
   "source": [
    "# Notebook 1: Data Exploration"
   ]
  },
  {
   "cell_type": "markdown",
   "id": "b627147d-20ff-4980-8573-976f9d53be25",
   "metadata": {},
   "source": [
    "Weclome!, The main goal for this notebook is to provide a deep understanding of the dataset, its characteristics, and any hidden patterns."
   ]
  },
  {
   "cell_type": "markdown",
   "id": "afbe996e-90bc-45c1-b336-29cff5865da4",
   "metadata": {},
   "source": [
    "---"
   ]
  },
  {
   "cell_type": "markdown",
   "id": "69ccfaad-bbdf-438c-a705-2a51532e00ee",
   "metadata": {
    "tags": []
   },
   "source": [
    "## Introduction"
   ]
  },
  {
   "cell_type": "markdown",
   "id": "b136bff0-b85f-42c1-b51b-9cd936a2056a",
   "metadata": {},
   "source": [
    "#### Data Description"
   ]
  },
  {
   "cell_type": "markdown",
   "id": "c78a0cad-ef3d-42f9-ace9-4e990769345e",
   "metadata": {},
   "source": [
    "This porjects analyze radio continuum data from the MeerKAT International GHz Tiered Extragalactic Exploration([MIGHTEE](https://idia.ac.za/mightee/)) survey, focusing on extragalactic radio emissions in the COSMOS field. MIGHTEE offers insights into galaxy evolution, given its depth and multiwavelength coverage. The COSMOS field, devoid of bright radio, UV, and X-ray sources, is ideal for deep astronomical surveys."
   ]
  },
  {
   "cell_type": "markdown",
   "id": "fabf8c96-5a70-4462-a600-73d68200b3b6",
   "metadata": {},
   "source": [
    "The MIGHTEE-COSMOS data includes deep fields like E-CDFS, ELAIS-S1, and XMM-LSS, covering 20 deg^2 areas at a central frequency of 1284 MHz. These fields were observed using MeerKAT's L-band receivers for about 1000 hours. They were chosen due to their extensive multiwavelength data from prior and potential future surveys."
   ]
  },
  {
   "cell_type": "markdown",
   "id": "e71d2905-2936-4311-bd92-3e4f03ffc5f5",
   "metadata": {},
   "source": [
    "The **MIGHTEE-COSMOS multiwavelength catalogue** combines radio data with optical, near-to-far infrared, and X-ray measurements from various sources in the COSMOS field. The main radio catalogue was cross-referenced with optical and near-infrared data from other studies, resulting in a matched set of 5,224 radio sources. Additionally, 572 of these sources were detected in X-ray observations. This dataset also incorporated Mid-Infrared (MIR) data, referencing specific IRAC flux densities. The catalogue further integrated far-infrared data from the Herschel Extra-galactic Legacy Project, identifying thousands of radio sources across different instruments."
   ]
  },
  {
   "cell_type": "markdown",
   "id": "efcdfa57-113d-4d3e-9b85-1db481eaaca4",
   "metadata": {},
   "source": [
    "#### Why explore the data?"
   ]
  },
  {
   "cell_type": "markdown",
   "id": "3b9bd7fe-cf9e-42d3-94f0-c67a8caea716",
   "metadata": {},
   "source": [
    "Data exploration serves as the foundational step in data analysis, aimed at understanding inherent structures, patterns, and potential anomalies within a dataset. It helps ascertain the quality of data, understand features' distributions, formulate hypotheses, guide preprocessing decisions, and select appropriate analytical tools and models. Efficient data exploration also aids in communicating initial insights to stakeholders. In this notebook, we will perform some of these critical tasks."
   ]
  },
  {
   "cell_type": "markdown",
   "id": "69322266-5441-47f9-ad47-301bc8366659",
   "metadata": {
    "tags": []
   },
   "source": [
    "<div align=\"center\">\n",
    "  <img src=\"images/cweb.jpg\" width=\"400\" height=\"400\">\n",
    "    <p><center>Cosmic Web</center></p>\n",
    "</div>"
   ]
  },
  {
   "cell_type": "markdown",
   "id": "144a1eea-7557-4300-87f5-72e7f35452fa",
   "metadata": {},
   "source": [
    "---"
   ]
  },
  {
   "cell_type": "markdown",
   "id": "2e6fd8aa-525f-49dc-8879-3433dd20fefa",
   "metadata": {},
   "source": [
    "### First we import some libraries:"
   ]
  },
  {
   "cell_type": "code",
   "execution_count": 19,
   "id": "b7625606-747f-49e5-8da1-959ddd575855",
   "metadata": {
    "tags": []
   },
   "outputs": [],
   "source": [
    "import numpy as np \n",
    "import matplotlib.pyplot as plt \n",
    "import pandas as pd \n",
    "from astropy.table import Table \n",
    "import astropy.io.fits as fits \n"
   ]
  },
  {
   "cell_type": "markdown",
   "id": "973406ae-3a62-4152-90e2-91bb5e1a360e",
   "metadata": {},
   "source": [
    "---"
   ]
  },
  {
   "cell_type": "markdown",
   "id": "837bb10d-6806-4a95-bc39-3b99235aa961",
   "metadata": {
    "tags": []
   },
   "source": [
    "### Reading data"
   ]
  },
  {
   "cell_type": "code",
   "execution_count": 4,
   "id": "4a06531c-a09b-4b22-b206-4fddebc42ee1",
   "metadata": {
    "tags": []
   },
   "outputs": [
    {
     "name": "stdout",
     "output_type": "stream",
     "text": [
      "         RADIORA  RADIODEC  TOTALFLUX  TOTALFLUXERR  PEAKFLUX  PEAKFLUXERR  \\\n",
      "3377  149.628631  2.320881   0.000043      0.000012  0.000047     0.000007   \n",
      "2801  150.008176  2.215616   0.000028      0.000008  0.000031     0.000005   \n",
      "2692  150.130723  2.020210   0.000030      0.000009  0.000029     0.000005   \n",
      "1294  150.202172  2.376996   0.000064      0.000010  0.000046     0.000005   \n",
      "2658  150.205665  1.782724   0.000130      0.000012  0.000123     0.000007   \n",
      "...          ...       ...        ...           ...       ...          ...   \n",
      "4144  150.345822  2.147473   0.000181      0.000008  0.000182     0.000005   \n",
      "550   150.231009  2.072680   0.000033      0.000009  0.000032     0.000005   \n",
      "3719  150.317176  2.451681   0.000125      0.000010  0.000127     0.000006   \n",
      "4554  150.275642  1.793911   0.000038      0.000011  0.000036     0.000006   \n",
      "1012  149.825241  2.192343   0.000042      0.000010  0.000036     0.000005   \n",
      "\n",
      "       flux_CFHT-u   flux_CFHT-g   flux_CFHT-r  flux_CFHT-iy  ...  SFR_IR_lo  \\\n",
      "3377 -9.900000e+01 -9.900000e+01 -9.900000e+01 -9.900000e+01  ...    20.0665   \n",
      "2801  3.011265e-30  1.154910e-29  4.670079e-29  1.201403e-28  ...    29.2709   \n",
      "2692  3.628739e-30  4.921917e-30  8.982732e-30  1.476779e-29  ...    44.0257   \n",
      "1294  9.356526e-31  3.105936e-30  9.430802e-30  2.746550e-29  ...    16.9034   \n",
      "2658  1.520384e-30  1.921881e-30  2.389732e-30  4.379960e-30  ...   321.9600   \n",
      "...            ...           ...           ...           ...  ...        ...   \n",
      "4144  1.218356e-28  1.491899e-28  1.714205e-28  1.734923e-28  ...   627.6353   \n",
      "550   5.748784e-30  1.020492e-29  2.022303e-29  4.657820e-29  ...    19.1334   \n",
      "3719  2.091400e-30  4.336381e-30  8.236836e-30  1.242954e-29  ...     0.3002   \n",
      "4554  1.034053e-30  1.834227e-30  2.037662e-30  4.497905e-30  ...   225.6666   \n",
      "1012  2.882917e-30  6.416513e-30  1.168184e-29  1.722509e-29  ...   108.2814   \n",
      "\n",
      "      SFR_IR_hi  ln_like  ln_like_lo       S14           L14       fSF  \\\n",
      "3377    85.6523 -17.8758    -20.9191  0.000042  8.702949e+23  0.937190   \n",
      "2801    33.0660 -17.7282    -19.9011  0.000028  3.992646e+22  0.571913   \n",
      "2692    52.3905 -24.8840    -27.1511  0.000030  1.376631e+23  0.724998   \n",
      "1294    23.3377 -15.7067    -18.1078  0.000063  1.084429e+23  0.742051   \n",
      "2658   358.6443 -72.5812    -74.6058  0.000127  1.258508e+24  0.970310   \n",
      "...         ...      ...         ...       ...           ...       ...   \n",
      "4144  1228.3405 -13.7386    -15.7007  0.000178  1.291234e+24  0.937163   \n",
      "550     22.6135 -12.6426    -14.7941  0.000033  8.237489e+22  0.571405   \n",
      "3719   133.1775 -11.8611    -13.9193  0.000122  2.200100e+24  0.336992   \n",
      "4554   266.9196 -23.2175    -25.6992  0.000038  4.920984e+23  0.895791   \n",
      "1012   239.7471 -18.8882    -21.1783  0.000041  1.633210e+23  0.957429   \n",
      "\n",
      "          fAGN       qir       LIR_WHz  \n",
      "3377  0.883348  1.700120  4.363012e+25  \n",
      "2801  0.118507  2.734167  2.164852e+25  \n",
      "2692  0.332099  2.398995  3.449949e+25  \n",
      "1294  0.642985  2.137186  1.487261e+25  \n",
      "2658  0.502428  2.271284  2.350393e+26  \n",
      "...        ...       ...           ...  \n",
      "4144  0.896682  2.611674  5.280549e+26  \n",
      "550   0.291636  2.256749  1.487796e+25  \n",
      "3719  0.818087  1.640887  9.623422e+25  \n",
      "4554  0.916746  2.635950  2.128150e+26  \n",
      "1012  0.686438  2.734956  8.871520e+25  \n",
      "\n",
      "[2824 rows x 144 columns]\n"
     ]
    }
   ],
   "source": [
    "import pickle\n",
    "\n",
    "# Loading data from pickle file\n",
    "with open(\"data/mightee.pkl\", \"rb\") as file:\n",
    "    mightee_data = pickle.load(file)\n",
    "\n",
    "print(mightee_data)  "
   ]
  },
  {
   "cell_type": "code",
   "execution_count": 6,
   "id": "d78053f3-8d9d-4e1d-9ef6-b90e49922dae",
   "metadata": {
    "tags": []
   },
   "outputs": [
    {
     "data": {
      "text/plain": [
       "(2824, 144)"
      ]
     },
     "execution_count": 6,
     "metadata": {},
     "output_type": "execute_result"
    }
   ],
   "source": [
    "mightee_data.shape"
   ]
  },
  {
   "cell_type": "markdown",
   "id": "19462e37-b36d-47d6-a57b-669b6ec79ebe",
   "metadata": {},
   "source": [
    "From what we can observe, we have 144 features (columns) and 2824 rows. The following are the feature names:"
   ]
  },
  {
   "cell_type": "code",
   "execution_count": 12,
   "id": "97cb4be2-ab5a-4764-9de2-f76e76689b2f",
   "metadata": {
    "tags": []
   },
   "outputs": [
    {
     "data": {
      "text/plain": [
       "['RADIORA',\n",
       " 'RADIODEC',\n",
       " 'TOTALFLUX',\n",
       " 'TOTALFLUXERR',\n",
       " 'PEAKFLUX',\n",
       " 'PEAKFLUXERR',\n",
       " 'flux_CFHT-u',\n",
       " 'flux_CFHT-g',\n",
       " 'flux_CFHT-r',\n",
       " 'flux_CFHT-iy']"
      ]
     },
     "execution_count": 12,
     "metadata": {},
     "output_type": "execute_result"
    }
   ],
   "source": [
    "list(mightee_data.columns[:10]) # printing the first 10 columns\n",
    "# For feature description please check the following file @@"
   ]
  },
  {
   "cell_type": "code",
   "execution_count": 14,
   "id": "fb74fbca-5f6b-4228-9429-7ef851dde077",
   "metadata": {
    "tags": []
   },
   "outputs": [
    {
     "name": "stdout",
     "output_type": "stream",
     "text": [
      "False\n"
     ]
    }
   ],
   "source": [
    "print(mightee_data.isna().any().any()) # checking if the dataframe has any missing values"
   ]
  },
  {
   "cell_type": "markdown",
   "id": "9a07a42b-1887-41c7-bb35-d35b3f63be9e",
   "metadata": {},
   "source": [
    "The dataframe seems to be clean, because someone did, You guys are welcome :D"
   ]
  },
  {
   "cell_type": "markdown",
   "id": "45629566-b98e-48b7-9370-a4c7df14d021",
   "metadata": {},
   "source": [
    "---"
   ]
  },
  {
   "cell_type": "markdown",
   "id": "6a3a17bd-7350-4a52-a7b3-7215756b176b",
   "metadata": {},
   "source": [
    "### Descriptive Statistics:"
   ]
  },
  {
   "cell_type": "markdown",
   "id": "8b54caa9-140c-458b-ba24-8ad60e2faf07",
   "metadata": {},
   "source": [
    "**Descriptive statistics** provide a concise overview of the central tendencies, spread, and shape of the data distribution. By observing the mean, median, mode, and standard deviation, we can quickly grasp the characteristics of our dataset and identify potential anomalies or patterns."
   ]
  },
  {
   "cell_type": "code",
   "execution_count": 15,
   "id": "2111bad9-663c-40ee-bbfb-219ebc4f6ea8",
   "metadata": {
    "tags": []
   },
   "outputs": [
    {
     "data": {
      "text/html": [
       "<div>\n",
       "<style scoped>\n",
       "    .dataframe tbody tr th:only-of-type {\n",
       "        vertical-align: middle;\n",
       "    }\n",
       "\n",
       "    .dataframe tbody tr th {\n",
       "        vertical-align: top;\n",
       "    }\n",
       "\n",
       "    .dataframe thead th {\n",
       "        text-align: right;\n",
       "    }\n",
       "</style>\n",
       "<table border=\"1\" class=\"dataframe\">\n",
       "  <thead>\n",
       "    <tr style=\"text-align: right;\">\n",
       "      <th></th>\n",
       "      <th>RADIORA</th>\n",
       "      <th>RADIODEC</th>\n",
       "      <th>TOTALFLUX</th>\n",
       "      <th>TOTALFLUXERR</th>\n",
       "      <th>PEAKFLUX</th>\n",
       "      <th>PEAKFLUXERR</th>\n",
       "      <th>flux_CFHT-u</th>\n",
       "      <th>flux_CFHT-g</th>\n",
       "      <th>flux_CFHT-r</th>\n",
       "      <th>flux_CFHT-iy</th>\n",
       "      <th>...</th>\n",
       "      <th>SFR_IR_lo</th>\n",
       "      <th>SFR_IR_hi</th>\n",
       "      <th>ln_like</th>\n",
       "      <th>ln_like_lo</th>\n",
       "      <th>S14</th>\n",
       "      <th>L14</th>\n",
       "      <th>fSF</th>\n",
       "      <th>fAGN</th>\n",
       "      <th>qir</th>\n",
       "      <th>LIR_WHz</th>\n",
       "    </tr>\n",
       "  </thead>\n",
       "  <tbody>\n",
       "    <tr>\n",
       "      <th>count</th>\n",
       "      <td>2824.000000</td>\n",
       "      <td>2824.000000</td>\n",
       "      <td>2824.000000</td>\n",
       "      <td>2824.000000</td>\n",
       "      <td>2824.000000</td>\n",
       "      <td>2.824000e+03</td>\n",
       "      <td>2.824000e+03</td>\n",
       "      <td>2.824000e+03</td>\n",
       "      <td>2.824000e+03</td>\n",
       "      <td>2.824000e+03</td>\n",
       "      <td>...</td>\n",
       "      <td>2.824000e+03</td>\n",
       "      <td>2.824000e+03</td>\n",
       "      <td>2824.000000</td>\n",
       "      <td>2824.000000</td>\n",
       "      <td>2824.000000</td>\n",
       "      <td>2.824000e+03</td>\n",
       "      <td>2824.000000</td>\n",
       "      <td>2824.000000</td>\n",
       "      <td>2824.000000</td>\n",
       "      <td>2.824000e+03</td>\n",
       "    </tr>\n",
       "    <tr>\n",
       "      <th>mean</th>\n",
       "      <td>150.117111</td>\n",
       "      <td>2.213743</td>\n",
       "      <td>0.000234</td>\n",
       "      <td>0.000081</td>\n",
       "      <td>0.000143</td>\n",
       "      <td>5.505361e-06</td>\n",
       "      <td>-2.418909e+00</td>\n",
       "      <td>-2.418909e+00</td>\n",
       "      <td>-2.418909e+00</td>\n",
       "      <td>-2.418909e+00</td>\n",
       "      <td>...</td>\n",
       "      <td>6.661093e+04</td>\n",
       "      <td>2.386007e+07</td>\n",
       "      <td>-19.423711</td>\n",
       "      <td>-21.678803</td>\n",
       "      <td>0.000228</td>\n",
       "      <td>1.135299e+24</td>\n",
       "      <td>0.594015</td>\n",
       "      <td>0.418967</td>\n",
       "      <td>2.026658</td>\n",
       "      <td>8.181013e+28</td>\n",
       "    </tr>\n",
       "    <tr>\n",
       "      <th>std</th>\n",
       "      <td>0.249375</td>\n",
       "      <td>0.247945</td>\n",
       "      <td>0.002431</td>\n",
       "      <td>0.002409</td>\n",
       "      <td>0.000834</td>\n",
       "      <td>9.109051e-07</td>\n",
       "      <td>1.528737e+01</td>\n",
       "      <td>1.528737e+01</td>\n",
       "      <td>1.528737e+01</td>\n",
       "      <td>1.528737e+01</td>\n",
       "      <td>...</td>\n",
       "      <td>3.536265e+06</td>\n",
       "      <td>1.255602e+09</td>\n",
       "      <td>18.818401</td>\n",
       "      <td>18.857034</td>\n",
       "      <td>0.002373</td>\n",
       "      <td>1.007616e+25</td>\n",
       "      <td>0.273763</td>\n",
       "      <td>0.238835</td>\n",
       "      <td>0.750241</td>\n",
       "      <td>4.118232e+30</td>\n",
       "    </tr>\n",
       "    <tr>\n",
       "      <th>min</th>\n",
       "      <td>149.604801</td>\n",
       "      <td>1.692431</td>\n",
       "      <td>0.000001</td>\n",
       "      <td>0.000000</td>\n",
       "      <td>0.000009</td>\n",
       "      <td>0.000000e+00</td>\n",
       "      <td>-9.900000e+01</td>\n",
       "      <td>-9.900000e+01</td>\n",
       "      <td>-9.900000e+01</td>\n",
       "      <td>-9.900000e+01</td>\n",
       "      <td>...</td>\n",
       "      <td>0.000000e+00</td>\n",
       "      <td>0.000000e+00</td>\n",
       "      <td>-356.447000</td>\n",
       "      <td>-358.323500</td>\n",
       "      <td>0.000001</td>\n",
       "      <td>3.280119e+15</td>\n",
       "      <td>0.000014</td>\n",
       "      <td>0.000958</td>\n",
       "      <td>-2.621464</td>\n",
       "      <td>4.880741e+16</td>\n",
       "    </tr>\n",
       "    <tr>\n",
       "      <th>25%</th>\n",
       "      <td>149.918694</td>\n",
       "      <td>2.022450</td>\n",
       "      <td>0.000037</td>\n",
       "      <td>0.000009</td>\n",
       "      <td>0.000034</td>\n",
       "      <td>4.960000e-06</td>\n",
       "      <td>1.010690e-30</td>\n",
       "      <td>2.028484e-30</td>\n",
       "      <td>4.178087e-30</td>\n",
       "      <td>7.901124e-30</td>\n",
       "      <td>...</td>\n",
       "      <td>4.624275e+00</td>\n",
       "      <td>9.829775e+00</td>\n",
       "      <td>-21.028975</td>\n",
       "      <td>-23.310925</td>\n",
       "      <td>0.000037</td>\n",
       "      <td>5.561828e+22</td>\n",
       "      <td>0.442830</td>\n",
       "      <td>0.245560</td>\n",
       "      <td>1.874243</td>\n",
       "      <td>6.164946e+24</td>\n",
       "    </tr>\n",
       "    <tr>\n",
       "      <th>50%</th>\n",
       "      <td>150.114237</td>\n",
       "      <td>2.214303</td>\n",
       "      <td>0.000054</td>\n",
       "      <td>0.000010</td>\n",
       "      <td>0.000048</td>\n",
       "      <td>5.440000e-06</td>\n",
       "      <td>3.325369e-30</td>\n",
       "      <td>6.504912e-30</td>\n",
       "      <td>1.495620e-29</td>\n",
       "      <td>3.268231e-29</td>\n",
       "      <td>...</td>\n",
       "      <td>2.192355e+01</td>\n",
       "      <td>3.428025e+01</td>\n",
       "      <td>-14.003100</td>\n",
       "      <td>-16.313800</td>\n",
       "      <td>0.000053</td>\n",
       "      <td>1.742416e+23</td>\n",
       "      <td>0.661927</td>\n",
       "      <td>0.373047</td>\n",
       "      <td>2.252486</td>\n",
       "      <td>2.194657e+25</td>\n",
       "    </tr>\n",
       "    <tr>\n",
       "      <th>75%</th>\n",
       "      <td>150.317873</td>\n",
       "      <td>2.405101</td>\n",
       "      <td>0.000087</td>\n",
       "      <td>0.000011</td>\n",
       "      <td>0.000079</td>\n",
       "      <td>6.042500e-06</td>\n",
       "      <td>1.297500e-29</td>\n",
       "      <td>2.571983e-29</td>\n",
       "      <td>6.343251e-29</td>\n",
       "      <td>1.220041e-28</td>\n",
       "      <td>...</td>\n",
       "      <td>6.355942e+01</td>\n",
       "      <td>9.619680e+01</td>\n",
       "      <td>-10.072775</td>\n",
       "      <td>-12.273625</td>\n",
       "      <td>0.000085</td>\n",
       "      <td>5.036621e+23</td>\n",
       "      <td>0.808175</td>\n",
       "      <td>0.550338</td>\n",
       "      <td>2.438244</td>\n",
       "      <td>6.104389e+25</td>\n",
       "    </tr>\n",
       "    <tr>\n",
       "      <th>max</th>\n",
       "      <td>150.635050</td>\n",
       "      <td>2.720006</td>\n",
       "      <td>0.087684</td>\n",
       "      <td>0.115520</td>\n",
       "      <td>0.025939</td>\n",
       "      <td>8.080000e-06</td>\n",
       "      <td>7.376022e-27</td>\n",
       "      <td>1.100876e-26</td>\n",
       "      <td>1.303079e-26</td>\n",
       "      <td>1.211518e-26</td>\n",
       "      <td>...</td>\n",
       "      <td>1.879218e+08</td>\n",
       "      <td>6.672216e+10</td>\n",
       "      <td>-3.423700</td>\n",
       "      <td>-4.986900</td>\n",
       "      <td>0.085602</td>\n",
       "      <td>3.119662e+26</td>\n",
       "      <td>1.000000</td>\n",
       "      <td>0.999990</td>\n",
       "      <td>8.373340</td>\n",
       "      <td>2.185097e+32</td>\n",
       "    </tr>\n",
       "  </tbody>\n",
       "</table>\n",
       "<p>8 rows × 144 columns</p>\n",
       "</div>"
      ],
      "text/plain": [
       "           RADIORA     RADIODEC    TOTALFLUX  TOTALFLUXERR     PEAKFLUX  \\\n",
       "count  2824.000000  2824.000000  2824.000000   2824.000000  2824.000000   \n",
       "mean    150.117111     2.213743     0.000234      0.000081     0.000143   \n",
       "std       0.249375     0.247945     0.002431      0.002409     0.000834   \n",
       "min     149.604801     1.692431     0.000001      0.000000     0.000009   \n",
       "25%     149.918694     2.022450     0.000037      0.000009     0.000034   \n",
       "50%     150.114237     2.214303     0.000054      0.000010     0.000048   \n",
       "75%     150.317873     2.405101     0.000087      0.000011     0.000079   \n",
       "max     150.635050     2.720006     0.087684      0.115520     0.025939   \n",
       "\n",
       "        PEAKFLUXERR   flux_CFHT-u   flux_CFHT-g   flux_CFHT-r  flux_CFHT-iy  \\\n",
       "count  2.824000e+03  2.824000e+03  2.824000e+03  2.824000e+03  2.824000e+03   \n",
       "mean   5.505361e-06 -2.418909e+00 -2.418909e+00 -2.418909e+00 -2.418909e+00   \n",
       "std    9.109051e-07  1.528737e+01  1.528737e+01  1.528737e+01  1.528737e+01   \n",
       "min    0.000000e+00 -9.900000e+01 -9.900000e+01 -9.900000e+01 -9.900000e+01   \n",
       "25%    4.960000e-06  1.010690e-30  2.028484e-30  4.178087e-30  7.901124e-30   \n",
       "50%    5.440000e-06  3.325369e-30  6.504912e-30  1.495620e-29  3.268231e-29   \n",
       "75%    6.042500e-06  1.297500e-29  2.571983e-29  6.343251e-29  1.220041e-28   \n",
       "max    8.080000e-06  7.376022e-27  1.100876e-26  1.303079e-26  1.211518e-26   \n",
       "\n",
       "       ...     SFR_IR_lo     SFR_IR_hi      ln_like   ln_like_lo          S14  \\\n",
       "count  ...  2.824000e+03  2.824000e+03  2824.000000  2824.000000  2824.000000   \n",
       "mean   ...  6.661093e+04  2.386007e+07   -19.423711   -21.678803     0.000228   \n",
       "std    ...  3.536265e+06  1.255602e+09    18.818401    18.857034     0.002373   \n",
       "min    ...  0.000000e+00  0.000000e+00  -356.447000  -358.323500     0.000001   \n",
       "25%    ...  4.624275e+00  9.829775e+00   -21.028975   -23.310925     0.000037   \n",
       "50%    ...  2.192355e+01  3.428025e+01   -14.003100   -16.313800     0.000053   \n",
       "75%    ...  6.355942e+01  9.619680e+01   -10.072775   -12.273625     0.000085   \n",
       "max    ...  1.879218e+08  6.672216e+10    -3.423700    -4.986900     0.085602   \n",
       "\n",
       "                L14          fSF         fAGN          qir       LIR_WHz  \n",
       "count  2.824000e+03  2824.000000  2824.000000  2824.000000  2.824000e+03  \n",
       "mean   1.135299e+24     0.594015     0.418967     2.026658  8.181013e+28  \n",
       "std    1.007616e+25     0.273763     0.238835     0.750241  4.118232e+30  \n",
       "min    3.280119e+15     0.000014     0.000958    -2.621464  4.880741e+16  \n",
       "25%    5.561828e+22     0.442830     0.245560     1.874243  6.164946e+24  \n",
       "50%    1.742416e+23     0.661927     0.373047     2.252486  2.194657e+25  \n",
       "75%    5.036621e+23     0.808175     0.550338     2.438244  6.104389e+25  \n",
       "max    3.119662e+26     1.000000     0.999990     8.373340  2.185097e+32  \n",
       "\n",
       "[8 rows x 144 columns]"
      ]
     },
     "execution_count": 15,
     "metadata": {},
     "output_type": "execute_result"
    }
   ],
   "source": [
    "desc_stats = mightee_data.describe()\n",
    "\n",
    "# Display the statistics\n",
    "desc_stats"
   ]
  },
  {
   "cell_type": "markdown",
   "id": "dc968479-94e3-4b5b-aad0-a8f01a1f8337",
   "metadata": {},
   "source": [
    "### Data Normalization"
   ]
  },
  {
   "cell_type": "markdown",
   "id": "d4c96a96-1b15-4148-a8b3-8d436101600d",
   "metadata": {},
   "source": [
    "From our descriptive statistics and visual data exploration, we notice discrepancies in the scale of our features. Different scales can skew our data visualization and mask meaningful patterns. By normalizing, we rescale features to the range `[0,1]`, ensuring uniformity for better data visualization and insights.\n",
    "\n"
   ]
  },
  {
   "cell_type": "code",
   "execution_count": 20,
   "id": "e0722f58-17ef-45d0-adde-cf15ec5578d3",
   "metadata": {
    "tags": []
   },
   "outputs": [],
   "source": [
    "from sklearn.preprocessing import MinMaxScaler\n",
    "\n",
    "scaler = MinMaxScaler()\n",
    "normalized_mightee = scaler.fit_transform(mightee_data)\n",
    "normalized_mightee = pd.DataFrame(normalized_mightee, columns=mightee_data.columns)"
   ]
  },
  {
   "cell_type": "code",
   "execution_count": 24,
   "id": "af600115-8dd1-462e-b3c8-270f89dad766",
   "metadata": {
    "tags": []
   },
   "outputs": [
    {
     "data": {
      "text/html": [
       "<div>\n",
       "<style scoped>\n",
       "    .dataframe tbody tr th:only-of-type {\n",
       "        vertical-align: middle;\n",
       "    }\n",
       "\n",
       "    .dataframe tbody tr th {\n",
       "        vertical-align: top;\n",
       "    }\n",
       "\n",
       "    .dataframe thead th {\n",
       "        text-align: right;\n",
       "    }\n",
       "</style>\n",
       "<table border=\"1\" class=\"dataframe\">\n",
       "  <thead>\n",
       "    <tr style=\"text-align: right;\">\n",
       "      <th></th>\n",
       "      <th>RADIORA</th>\n",
       "      <th>RADIODEC</th>\n",
       "      <th>TOTALFLUX</th>\n",
       "      <th>TOTALFLUXERR</th>\n",
       "      <th>PEAKFLUX</th>\n",
       "      <th>PEAKFLUXERR</th>\n",
       "      <th>flux_CFHT-u</th>\n",
       "      <th>flux_CFHT-g</th>\n",
       "      <th>flux_CFHT-r</th>\n",
       "      <th>flux_CFHT-iy</th>\n",
       "      <th>...</th>\n",
       "      <th>SFR_IR_lo</th>\n",
       "      <th>SFR_IR_hi</th>\n",
       "      <th>ln_like</th>\n",
       "      <th>ln_like_lo</th>\n",
       "      <th>S14</th>\n",
       "      <th>L14</th>\n",
       "      <th>fSF</th>\n",
       "      <th>fAGN</th>\n",
       "      <th>qir</th>\n",
       "      <th>LIR_WHz</th>\n",
       "    </tr>\n",
       "  </thead>\n",
       "  <tbody>\n",
       "    <tr>\n",
       "      <th>count</th>\n",
       "      <td>2824.000000</td>\n",
       "      <td>2824.000000</td>\n",
       "      <td>2824.000000</td>\n",
       "      <td>2824.000000</td>\n",
       "      <td>2824.000000</td>\n",
       "      <td>2824.000000</td>\n",
       "      <td>2824.000000</td>\n",
       "      <td>2824.000000</td>\n",
       "      <td>2824.000000</td>\n",
       "      <td>2824.000000</td>\n",
       "      <td>...</td>\n",
       "      <td>2.824000e+03</td>\n",
       "      <td>2.824000e+03</td>\n",
       "      <td>2824.000000</td>\n",
       "      <td>2824.000000</td>\n",
       "      <td>2824.000000</td>\n",
       "      <td>2824.000000</td>\n",
       "      <td>2824.000000</td>\n",
       "      <td>2824.000000</td>\n",
       "      <td>2824.000000</td>\n",
       "      <td>2.824000e+03</td>\n",
       "    </tr>\n",
       "    <tr>\n",
       "      <th>mean</th>\n",
       "      <td>0.497268</td>\n",
       "      <td>0.507322</td>\n",
       "      <td>0.002647</td>\n",
       "      <td>0.000701</td>\n",
       "      <td>0.005158</td>\n",
       "      <td>0.681357</td>\n",
       "      <td>0.975567</td>\n",
       "      <td>0.975567</td>\n",
       "      <td>0.975567</td>\n",
       "      <td>0.975567</td>\n",
       "      <td>...</td>\n",
       "      <td>3.544608e-04</td>\n",
       "      <td>3.576033e-04</td>\n",
       "      <td>0.954677</td>\n",
       "      <td>0.952759</td>\n",
       "      <td>0.002653</td>\n",
       "      <td>0.003639</td>\n",
       "      <td>0.594009</td>\n",
       "      <td>0.418414</td>\n",
       "      <td>0.422756</td>\n",
       "      <td>3.744004e-04</td>\n",
       "    </tr>\n",
       "    <tr>\n",
       "      <th>std</th>\n",
       "      <td>0.242053</td>\n",
       "      <td>0.241292</td>\n",
       "      <td>0.027727</td>\n",
       "      <td>0.020851</td>\n",
       "      <td>0.032147</td>\n",
       "      <td>0.112736</td>\n",
       "      <td>0.154418</td>\n",
       "      <td>0.154418</td>\n",
       "      <td>0.154418</td>\n",
       "      <td>0.154418</td>\n",
       "      <td>...</td>\n",
       "      <td>1.881774e-02</td>\n",
       "      <td>1.881837e-02</td>\n",
       "      <td>0.053306</td>\n",
       "      <td>0.053368</td>\n",
       "      <td>0.027718</td>\n",
       "      <td>0.032299</td>\n",
       "      <td>0.273767</td>\n",
       "      <td>0.239067</td>\n",
       "      <td>0.068236</td>\n",
       "      <td>1.884691e-02</td>\n",
       "    </tr>\n",
       "    <tr>\n",
       "      <th>min</th>\n",
       "      <td>0.000000</td>\n",
       "      <td>0.000000</td>\n",
       "      <td>0.000000</td>\n",
       "      <td>0.000000</td>\n",
       "      <td>0.000000</td>\n",
       "      <td>0.000000</td>\n",
       "      <td>0.000000</td>\n",
       "      <td>0.000000</td>\n",
       "      <td>0.000000</td>\n",
       "      <td>0.000000</td>\n",
       "      <td>...</td>\n",
       "      <td>0.000000e+00</td>\n",
       "      <td>0.000000e+00</td>\n",
       "      <td>0.000000</td>\n",
       "      <td>0.000000</td>\n",
       "      <td>0.000000</td>\n",
       "      <td>0.000000</td>\n",
       "      <td>0.000000</td>\n",
       "      <td>0.000000</td>\n",
       "      <td>0.000000</td>\n",
       "      <td>0.000000e+00</td>\n",
       "    </tr>\n",
       "    <tr>\n",
       "      <th>25%</th>\n",
       "      <td>0.304677</td>\n",
       "      <td>0.321163</td>\n",
       "      <td>0.000411</td>\n",
       "      <td>0.000076</td>\n",
       "      <td>0.000985</td>\n",
       "      <td>0.613861</td>\n",
       "      <td>1.000000</td>\n",
       "      <td>1.000000</td>\n",
       "      <td>1.000000</td>\n",
       "      <td>1.000000</td>\n",
       "      <td>...</td>\n",
       "      <td>2.460744e-08</td>\n",
       "      <td>1.473240e-10</td>\n",
       "      <td>0.950130</td>\n",
       "      <td>0.948140</td>\n",
       "      <td>0.000413</td>\n",
       "      <td>0.000178</td>\n",
       "      <td>0.442822</td>\n",
       "      <td>0.244839</td>\n",
       "      <td>0.408894</td>\n",
       "      <td>2.821360e-08</td>\n",
       "    </tr>\n",
       "    <tr>\n",
       "      <th>50%</th>\n",
       "      <td>0.494478</td>\n",
       "      <td>0.507867</td>\n",
       "      <td>0.000597</td>\n",
       "      <td>0.000087</td>\n",
       "      <td>0.001493</td>\n",
       "      <td>0.673267</td>\n",
       "      <td>1.000000</td>\n",
       "      <td>1.000000</td>\n",
       "      <td>1.000000</td>\n",
       "      <td>1.000000</td>\n",
       "      <td>...</td>\n",
       "      <td>1.166631e-07</td>\n",
       "      <td>5.137760e-10</td>\n",
       "      <td>0.970032</td>\n",
       "      <td>0.967943</td>\n",
       "      <td>0.000600</td>\n",
       "      <td>0.000559</td>\n",
       "      <td>0.661922</td>\n",
       "      <td>0.372450</td>\n",
       "      <td>0.443296</td>\n",
       "      <td>1.004375e-07</td>\n",
       "    </tr>\n",
       "    <tr>\n",
       "      <th>75%</th>\n",
       "      <td>0.692135</td>\n",
       "      <td>0.693545</td>\n",
       "      <td>0.000975</td>\n",
       "      <td>0.000099</td>\n",
       "      <td>0.002707</td>\n",
       "      <td>0.747834</td>\n",
       "      <td>1.000000</td>\n",
       "      <td>1.000000</td>\n",
       "      <td>1.000000</td>\n",
       "      <td>1.000000</td>\n",
       "      <td>...</td>\n",
       "      <td>3.382227e-07</td>\n",
       "      <td>1.441752e-09</td>\n",
       "      <td>0.981165</td>\n",
       "      <td>0.979377</td>\n",
       "      <td>0.000976</td>\n",
       "      <td>0.001614</td>\n",
       "      <td>0.808172</td>\n",
       "      <td>0.549912</td>\n",
       "      <td>0.460191</td>\n",
       "      <td>2.793646e-07</td>\n",
       "    </tr>\n",
       "    <tr>\n",
       "      <th>max</th>\n",
       "      <td>1.000000</td>\n",
       "      <td>1.000000</td>\n",
       "      <td>1.000000</td>\n",
       "      <td>1.000000</td>\n",
       "      <td>1.000000</td>\n",
       "      <td>1.000000</td>\n",
       "      <td>1.000000</td>\n",
       "      <td>1.000000</td>\n",
       "      <td>1.000000</td>\n",
       "      <td>1.000000</td>\n",
       "      <td>...</td>\n",
       "      <td>1.000000e+00</td>\n",
       "      <td>1.000000e+00</td>\n",
       "      <td>1.000000</td>\n",
       "      <td>1.000000</td>\n",
       "      <td>1.000000</td>\n",
       "      <td>1.000000</td>\n",
       "      <td>1.000000</td>\n",
       "      <td>1.000000</td>\n",
       "      <td>1.000000</td>\n",
       "      <td>1.000000e+00</td>\n",
       "    </tr>\n",
       "  </tbody>\n",
       "</table>\n",
       "<p>8 rows × 144 columns</p>\n",
       "</div>"
      ],
      "text/plain": [
       "           RADIORA     RADIODEC    TOTALFLUX  TOTALFLUXERR     PEAKFLUX  \\\n",
       "count  2824.000000  2824.000000  2824.000000   2824.000000  2824.000000   \n",
       "mean      0.497268     0.507322     0.002647      0.000701     0.005158   \n",
       "std       0.242053     0.241292     0.027727      0.020851     0.032147   \n",
       "min       0.000000     0.000000     0.000000      0.000000     0.000000   \n",
       "25%       0.304677     0.321163     0.000411      0.000076     0.000985   \n",
       "50%       0.494478     0.507867     0.000597      0.000087     0.001493   \n",
       "75%       0.692135     0.693545     0.000975      0.000099     0.002707   \n",
       "max       1.000000     1.000000     1.000000      1.000000     1.000000   \n",
       "\n",
       "       PEAKFLUXERR  flux_CFHT-u  flux_CFHT-g  flux_CFHT-r  flux_CFHT-iy  ...  \\\n",
       "count  2824.000000  2824.000000  2824.000000  2824.000000   2824.000000  ...   \n",
       "mean      0.681357     0.975567     0.975567     0.975567      0.975567  ...   \n",
       "std       0.112736     0.154418     0.154418     0.154418      0.154418  ...   \n",
       "min       0.000000     0.000000     0.000000     0.000000      0.000000  ...   \n",
       "25%       0.613861     1.000000     1.000000     1.000000      1.000000  ...   \n",
       "50%       0.673267     1.000000     1.000000     1.000000      1.000000  ...   \n",
       "75%       0.747834     1.000000     1.000000     1.000000      1.000000  ...   \n",
       "max       1.000000     1.000000     1.000000     1.000000      1.000000  ...   \n",
       "\n",
       "          SFR_IR_lo     SFR_IR_hi      ln_like   ln_like_lo          S14  \\\n",
       "count  2.824000e+03  2.824000e+03  2824.000000  2824.000000  2824.000000   \n",
       "mean   3.544608e-04  3.576033e-04     0.954677     0.952759     0.002653   \n",
       "std    1.881774e-02  1.881837e-02     0.053306     0.053368     0.027718   \n",
       "min    0.000000e+00  0.000000e+00     0.000000     0.000000     0.000000   \n",
       "25%    2.460744e-08  1.473240e-10     0.950130     0.948140     0.000413   \n",
       "50%    1.166631e-07  5.137760e-10     0.970032     0.967943     0.000600   \n",
       "75%    3.382227e-07  1.441752e-09     0.981165     0.979377     0.000976   \n",
       "max    1.000000e+00  1.000000e+00     1.000000     1.000000     1.000000   \n",
       "\n",
       "               L14          fSF         fAGN          qir       LIR_WHz  \n",
       "count  2824.000000  2824.000000  2824.000000  2824.000000  2.824000e+03  \n",
       "mean      0.003639     0.594009     0.418414     0.422756  3.744004e-04  \n",
       "std       0.032299     0.273767     0.239067     0.068236  1.884691e-02  \n",
       "min       0.000000     0.000000     0.000000     0.000000  0.000000e+00  \n",
       "25%       0.000178     0.442822     0.244839     0.408894  2.821360e-08  \n",
       "50%       0.000559     0.661922     0.372450     0.443296  1.004375e-07  \n",
       "75%       0.001614     0.808172     0.549912     0.460191  2.793646e-07  \n",
       "max       1.000000     1.000000     1.000000     1.000000  1.000000e+00  \n",
       "\n",
       "[8 rows x 144 columns]"
      ]
     },
     "execution_count": 24,
     "metadata": {},
     "output_type": "execute_result"
    }
   ],
   "source": [
    "normalized_mightee.describe()"
   ]
  },
  {
   "cell_type": "markdown",
   "id": "08de3736-10e5-4704-8b16-8a4216b7f18d",
   "metadata": {},
   "source": [
    "---"
   ]
  },
  {
   "cell_type": "markdown",
   "id": "f63c85fd-976e-4281-b501-d8f4811fa9ee",
   "metadata": {},
   "source": [
    "### Freature selection"
   ]
  },
  {
   "cell_type": "markdown",
   "id": "6b4e280f-da12-4c3c-bb3a-c198e33f3762",
   "metadata": {},
   "source": [
    "Having 147 features can be overwhelming for visualization and clustering. To simplify our dataset and remove redundant or highly correlated features, we can utilize correlation analysis. By examining how features correlate with one another, we can identify and remove those that offer similar information, thus streamlining our dataset for more effective analysis."
   ]
  },
  {
   "cell_type": "code",
   "execution_count": 26,
   "id": "108aae15-79ab-4e49-9092-d3521bd19d94",
   "metadata": {
    "tags": []
   },
   "outputs": [],
   "source": [
    "correlation_matrix = mightee_data.corr()\n",
    "upper_tri = correlation_matrix.where(np.triu(np.ones(correlation_matrix.shape), k=1).astype(bool))\n",
    "\n",
    "# Find index of feature columns with correlation greater than 0.95\n",
    "to_drop = [column for column in upper_tri.columns if any(upper_tri[column] > 0.80)]\n",
    "\n",
    "mightee_data.drop(columns=to_drop, inplace=True)"
   ]
  },
  {
   "cell_type": "code",
   "execution_count": 28,
   "id": "712b9bde-7660-4fa9-8974-070f1a2dddfb",
   "metadata": {
    "tags": []
   },
   "outputs": [
    {
     "data": {
      "text/plain": [
       "(2824, 44)"
      ]
     },
     "execution_count": 28,
     "metadata": {},
     "output_type": "execute_result"
    }
   ],
   "source": [
    "mightee_data.shape"
   ]
  },
  {
   "cell_type": "markdown",
   "id": "e31d8e72-68f1-4009-bc27-86ccb3d06ce1",
   "metadata": {
    "tags": []
   },
   "source": [
    "---"
   ]
  },
  {
   "cell_type": "markdown",
   "id": "c8d3f816-48d1-4831-aa65-ab31b60e7142",
   "metadata": {
    "tags": []
   },
   "source": [
    "### Data Visualisation"
   ]
  },
  {
   "cell_type": "markdown",
   "id": "2d35e645-c566-4e94-84d0-08af248931d9",
   "metadata": {},
   "source": [
    "Well, I will let you explore the all 46 features, but I am goint to explore only 3:\n",
    "\n",
    "- qir\n",
    "- Mstar\n",
    "- COS_best_z_v5"
   ]
  },
  {
   "cell_type": "code",
   "execution_count": 31,
   "id": "05acbe21-15a1-4bc3-810b-759b62fd187f",
   "metadata": {
    "tags": []
   },
   "outputs": [
    {
     "data": {
      "image/png": "[encoded data removed]",
      "text/plain": [
       "<Figure size 637.472x500 with 6 Axes>"
      ]
     },
     "metadata": {},
     "output_type": "display_data"
    }
   ],
   "source": [
    "import seaborn as sns\n",
    "\n",
    "# Settings for better visualization\n",
    "sns.set(font_scale=1)\n",
    "sns.set_style('ticks')\n",
    "\n",
    "# Using pairplot with hue as 'class_star'\n",
    "sns.pairplot(mightee_data[['Mstar', 'qir', 'COS_best_z_v5']], hue='COS_best_z_v5')\n",
    "plt.show()"
   ]
  },
  {
   "cell_type": "markdown",
   "id": "d0f1088b-c702-41f7-a12f-4311212509b2",
   "metadata": {},
   "source": [
    "@@@ help here"
   ]
  },
  {
   "cell_type": "markdown",
   "id": "d1a7dfdb-b719-445a-9cc3-38432b4a49ee",
   "metadata": {},
   "source": [
    "----"
   ]
  },
  {
   "cell_type": "markdown",
   "id": "d6bf59b6-ab8c-4c00-bbfa-85faf8e2c29e",
   "metadata": {},
   "source": [
    "### Saving the data"
   ]
  },
  {
   "cell_type": "markdown",
   "id": "082ff8c1-9b67-40bf-832d-a8112c0cbbe6",
   "metadata": {},
   "source": [
    "Now, we will be using the above three features to perform some clustering in the next notebook"
   ]
  },
  {
   "cell_type": "code",
   "execution_count": 33,
   "id": "77b88a3f-ab0b-491d-a22d-696e2eae1ef3",
   "metadata": {},
   "outputs": [],
   "source": [
    "import pickle\n",
    "\n",
    "with open(\"mightee3Feat.pkl\", \"wb\") as file:\n",
    "    pickle.dump(mightee_data[['Mstar', 'qir', 'COS_best_z_v5']], file)"
   ]
  },
  {
   "cell_type": "code",
   "execution_count": null,
   "id": "480e3783-3f74-41d8-bfef-841f8f6180b4",
   "metadata": {},
   "outputs": [],
   "source": []
  }
 ],
 "metadata": {
  "kernelspec": {
   "display_name": "ASTRO-GPU (TensorFlow)",
   "language": "python",
   "name": "astro-gpu"
  },
  "language_info": {
   "codemirror_mode": {
    "name": "ipython",
    "version": 3
   },
   "file_extension": ".py",
   "mimetype": "text/x-python",
   "name": "python",
   "nbconvert_exporter": "python",
   "pygments_lexer": "ipython3",
   "version": "3.8.10"
  }
 },
 "nbformat": 4,
 "nbformat_minor": 5
}
