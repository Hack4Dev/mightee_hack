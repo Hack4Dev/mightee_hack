{
 "cells": [
  {
   "cell_type": "markdown",
   "id": "7fbd1e73-f67a-4c1e-b93e-a62ed16d936d",
   "metadata": {},
   "source": [
    "# Notebook 1: Data Exploration"
   ]
  },
  {
   "cell_type": "markdown",
   "id": "b627147d-20ff-4980-8573-976f9d53be25",
   "metadata": {},
   "source": [
    "Weclome!, The main goal for this notebook is to provide a deep understanding of the dataset, its characteristics, and any hidden patterns."
   ]
  },
  {
   "cell_type": "markdown",
   "id": "afbe996e-90bc-45c1-b336-29cff5865da4",
   "metadata": {},
   "source": [
    "---"
   ]
  },
  {
   "cell_type": "markdown",
   "id": "69ccfaad-bbdf-438c-a705-2a51532e00ee",
   "metadata": {
    "tags": []
   },
   "source": [
    "## Introduction"
   ]
  },
  {
   "cell_type": "markdown",
   "id": "b136bff0-b85f-42c1-b51b-9cd936a2056a",
   "metadata": {},
   "source": [
    "#### Data Description"
   ]
  },
  {
   "cell_type": "markdown",
   "id": "c78a0cad-ef3d-42f9-ace9-4e990769345e",
   "metadata": {},
   "source": [
    "This porjects analyze radio continuum data from the MeerKAT International GHz Tiered Extragalactic Exploration([MIGHTEE](https://idia.ac.za/mightee/)) survey, focusing on extragalactic radio emissions in the COSMOS field. MIGHTEE offers insights into galaxy evolution, given its depth and multiwavelength coverage. The COSMOS field, devoid of bright radio, UV, and X-ray sources, is ideal for deep astronomical surveys."
   ]
  },
  {
   "cell_type": "markdown",
   "id": "fabf8c96-5a70-4462-a600-73d68200b3b6",
   "metadata": {},
   "source": [
    "The MIGHTEE-COSMOS data includes deep fields like E-CDFS, ELAIS-S1, and XMM-LSS, covering 20 deg^2 areas at a central frequency of 1284 MHz. These fields were observed using MeerKAT's L-band receivers for about 1000 hours. They were chosen due to their extensive multiwavelength data from prior and potential future surveys."
   ]
  },
  {
   "cell_type": "markdown",
   "id": "e71d2905-2936-4311-bd92-3e4f03ffc5f5",
   "metadata": {},
   "source": [
    "The **MIGHTEE-COSMOS multiwavelength catalogue** combines radio data with optical, near-to-far infrared, and X-ray measurements from various sources in the COSMOS field. The main radio catalogue was cross-referenced with optical and near-infrared data from other studies, resulting in a matched set of 5,224 radio sources. Additionally, 572 of these sources were detected in X-ray observations. This dataset also incorporated Mid-Infrared (MIR) data, referencing specific IRAC flux densities. The catalogue further integrated far-infrared data from the Herschel Extra-galactic Legacy Project, identifying thousands of radio sources across different instruments."
   ]
  },
  {
   "cell_type": "markdown",
   "id": "efcdfa57-113d-4d3e-9b85-1db481eaaca4",
   "metadata": {},
   "source": [
    "#### Why explore the data?"
   ]
  },
  {
   "cell_type": "markdown",
   "id": "3b9bd7fe-cf9e-42d3-94f0-c67a8caea716",
   "metadata": {},
   "source": [
    "Data exploration serves as the foundational step in data analysis, aimed at understanding inherent structures, patterns, and potential anomalies within a dataset. It helps ascertain the quality of data, understand features' distributions, formulate hypotheses, guide preprocessing decisions, and select appropriate analytical tools and models. Efficient data exploration also aids in communicating initial insights to stakeholders. In this notebook, we will perform some of these critical tasks."
   ]
  },
  {
   "cell_type": "markdown",
   "id": "69322266-5441-47f9-ad47-301bc8366659",
   "metadata": {
    "tags": []
   },
   "source": [
    "<div align=\"center\">\n",
    "  <img src=\"images/cweb.jpg\" width=\"400\" height=\"400\">\n",
    "    <p><center>Cosmic Web</center></p>\n",
    "</div>"
   ]
  },
  {
   "cell_type": "markdown",
   "id": "144a1eea-7557-4300-87f5-72e7f35452fa",
   "metadata": {},
   "source": [
    "---"
   ]
  },
  {
   "cell_type": "markdown",
   "id": "2e6fd8aa-525f-49dc-8879-3433dd20fefa",
   "metadata": {},
   "source": [
    "### First we import some libraries:"
   ]
  },
  {
   "cell_type": "code",
   "execution_count": 1,
   "id": "b7625606-747f-49e5-8da1-959ddd575855",
   "metadata": {
    "tags": []
   },
   "outputs": [],
   "source": [
    "import numpy as np \n",
    "import matplotlib.pyplot as plt \n",
    "import pandas as pd \n",
    "from astropy.table import Table \n",
    "import astropy.io.fits as fits \n"
   ]
  },
  {
   "cell_type": "markdown",
   "id": "973406ae-3a62-4152-90e2-91bb5e1a360e",
   "metadata": {},
   "source": [
    "---"
   ]
  },
  {
   "cell_type": "markdown",
   "id": "837bb10d-6806-4a95-bc39-3b99235aa961",
   "metadata": {
    "tags": []
   },
   "source": [
    "### Reading data"
   ]
  },
  {
   "cell_type": "code",
   "execution_count": 2,
   "id": "4a06531c-a09b-4b22-b206-4fddebc42ee1",
   "metadata": {
    "tags": []
   },
   "outputs": [],
   "source": [
    "dataTable = Table.read('data/data.fits', format='fits')\n",
    "df = dataTable.to_pandas()"
   ]
  },
  {
   "cell_type": "code",
   "execution_count": 3,
   "id": "d78053f3-8d9d-4e1d-9ef6-b90e49922dae",
   "metadata": {
    "tags": []
   },
   "outputs": [
    {
     "data": {
      "text/plain": [
       "(5224, 426)"
      ]
     },
     "execution_count": 3,
     "metadata": {},
     "output_type": "execute_result"
    }
   ],
   "source": [
    "df.shape"
   ]
  },
  {
   "cell_type": "markdown",
   "id": "19462e37-b36d-47d6-a57b-669b6ec79ebe",
   "metadata": {},
   "source": [
    "From what we can observe, we have 426 features (columns) and 5,224 rows. The following are the feature names:"
   ]
  },
  {
   "cell_type": "code",
   "execution_count": 4,
   "id": "97cb4be2-ab5a-4764-9de2-f76e76689b2f",
   "metadata": {
    "tags": []
   },
   "outputs": [],
   "source": [
    "Radio_measurements = [\"RADIORA\", \"RADIODEC\", \"TOTALFLUX\", \"TOTALFLUXERR\",  \"PEAKFLUX\", \"PEAKFLUXERR\"]\n",
    "\n",
    "Opt_cfht = [\"flux_CFHT-u\", \"flux_CFHT-g\", \"flux_CFHT-r\", \"flux_CFHT-iy\", \"flux_CFHT-z\"]\n",
    "\n",
    "Optical_hsc = [\"flux_HSC-G\", \"flux_HSC-G\",\"flux_HSC-R\",\"flux_HSC-I\",\"flux_HSC-NB0816\",\"flux_HSC-Z\",\"flux_SC-z\", \"flux_HSC-Y\"]\n",
    "\n",
    "Fir = [\"flux_Y\",\"flux_J\",\"flux_H\",\"flux_Ks\",\"flux_ch1\", \"flux_ch2\"]\n",
    "\n",
    "sigma = [\"err_CFHT-u\",\"err_CFHT-g\",\"err_CFHT-r\",\"err_CFHT-iy\",\"err_CFHT-z\",\n",
    "         \"err_HSC-G\", \"err_HSC-R\",\"err_HSC-I\",\"err_HSC-NB0816\",\"err_HSC-Z\",\"err_SC-z\",\"err_HSC-Y\", \"err_Y\",\"err_J\",\n",
    "         \"err_H\",\"err_Ks\",\"err_ch1\",\"err_ch2\"]\n",
    "\n",
    "Mips = [\"F_MIPS_24\",\"FErr_MIPS_24_u\",\"FErr_MIPS_24_l\",\"Bkg_MIPS_24\",\"Sig_conf_MIPS_24\",\"Rhat_MIPS_24\",\"n_eff_MIPS_24\",\"Pval_res_24\"]\n",
    "\n",
    "Pacs = [\"F_PACS_100\",\"FErr_PACS_100_u\",\"FErr_PACS_100_l\",\"F_PACS_160\",\"FErr_PACS_160_u\",\"FErr_PACS_160_l\",\"Bkg_PACS_100\",\"Bkg_PACS_160\",\n",
    "        \"Sig_conf_PACS_160\",\"Rhat_PACS_100\",\"Rhat_PACS_160\",\"n_eff_PACS_100\",\"n_eff_PACS_160\",\"Pval_res_100\",\"Pval_res_160\"]\n",
    "\n",
    "Spire = [\"F_SPIRE_250\",\"FErr_SPIRE_250_u\",\"FErr_SPIRE_250_l\",\"F_SPIRE_350\",\"FErr_SPIRE_350_u\",\"FErr_SPIRE_350_l\",\"F_SPIRE_500\",\"FErr_SPIRE_500_u\",\n",
    "         \"FErr_SPIRE_500_l\",\"Bkg_SPIRE_350\",\"Bkg_SPIRE_500\",\"Sig_conf_SPIRE_250\",\"Sig_conf_SPIRE_350\",\"Sig_conf_SPIRE_500\",\"Rhat_SPIRE_250\",\"Rhat_SPIRE_350\",\n",
    "         \"Rhat_SPIRE_500\",\"n_eff_SPIRE_250\",\"n_eff_SPIRE_350\",\"n_eff_SPIRE_500\",\"Pval_res_250\",\"Pval_res_350\"]\n",
    "\n",
    "IRAC = [\"SPLASH_1_FLUX\",\"SPLASH_1_FLUX_ERR\",\"SPLASH_2_FLUX\",\"SPLASH_2_FLUX_ERR\",\"SPLASH_3_FLUX\",\"SPLASH_3_FLUX_ERR\",\"SPLASH_4_FLUX\",\"SPLASH_4_FLUX_ERR\"]\n",
    "\n",
    "\n",
    "optical = [\"class_star\"]\n",
    "\n",
    "xray = [\"DEC_x\",\"DET_ML_F\",\"DET_ML_S\",\"DET_ML_H\",\"xray_flux_F\",\"xray_flux_S\",\"xray_flux_H_2\",\"HR\",\"HR_lo_lim\",\"HR_up_lim\",\"phot_type\",\"id_xmm\",\"dist_lum\",\"Lx_0510\",\"Lx_052\",\"Lx_210\",\"NH_2\"]\n",
    "\n",
    "radio2 = [\"S_INT\",\"E_S_INT\",\"S_PEAK\",\"E_S_PEAK\",\"NU_EFF\",\"S_INT14\",\"E_S_INT14\",\"S_PEAK14\",\"E_S_PEAK14\",\"IM_MAJ\",\"E_IM_MAJ\",\"IM_MIN\",\"E_IM_MIN\",\"IM_PA\",\n",
    "         \"E_IM_PA\",\"THETA_MAJ\",\"E_THETA_MAJ\",\"THETA_MIN\",\"E_THETA_MIN\",\"RESOLVED\",\"ISL_RMS\",\"GAUS_ID\",\"SRC_ID\"]\n",
    "\n",
    "Redshift = [\"COS_best_z_v5\",\"COS_best_z_uncertainty_v5\"]\n",
    "\n",
    "Star_formation_hi = [\"Source\",\"tau\",\"tau_lo\",\"tau_hi\",\"age\",\"age_lo\",\"age_hi\",\"Nh\",\"Nh_lo\",\n",
    "        \"Nh_hi\",\"irlum\",\"irlum_lo\",\"irlum_hi\",\"SB\",\"SB_lo\",\"SB_hi\",\"BB\",\"BB_lo\",\"BB_hi\",\"GA\",\"GA_lo\",\"GA_hi\",\"TO\",\"TO_lo\",\"TO_hi\",\"EBVbbb\",\"EBVbbb_lo\",\n",
    "        \"EBVbbb_hi\",\"EBVgal\",\"EBVgal_lo\",\"EBVgal_hi\"]\n",
    "\n",
    "Star_formation2 = [\"Mstar\",\"Mstar_lo\",\"Mstar_hi\",\"SFR_opt\",\"SFR_opt_lo\",\"SFR_opt_hi\", \"LIR(8-1000)\", \"LIR(8-1000)_lo\",\"LIR(8-1000)_hi\",\"Lbb(0.1-1)\",\"Lbb(0.1-1)_lo\",\"Lbb(0.1-1)_hi\",\"Lbbdered(0.1-1)\",\"Lbbdered(0.1-1)_lo\", \"Lbbdered(0.1-1)_hi\",\"Lga(0.1-1)\",\"Lga(0.1-1)_lo\",\"Lga(0.1-1)_hi\",\"Ltor(1-30)\",\"Ltor(1-30)_lo\",\"Ltor(1-30)_hi\",\"Lsb(1-30)\",\"Lsb(1-30)_lo\",\n",
    "        \"Lsb(1-30)_hi\",\"Lbol\",\"Lbol_lo\",\"Lbol_hi\",\"SFR_IR\",\"SFR_IR_lo\",\"SFR_IR_hi\",\"ln_like\",\"ln_like_lo\"]\n",
    "\n",
    "If3 = [\"S14\",\"L14\",\"fSF\",\"fAGN\",\"qir\",\"LIR_WHz\"]"
   ]
  },
  {
   "cell_type": "code",
   "execution_count": 5,
   "id": "fce6cc8c-be73-4cd2-a600-e706c3c66959",
   "metadata": {
    "tags": []
   },
   "outputs": [],
   "source": [
    "# Combining all feature lists into a single list\n",
    "all_features = Radio_measurements + Opt_cfht + Optical_hsc + Fir + sigma + Mips + Pacs + Spire + IRAC  + optical + xray + radio2 + Redshift + Star_formation_hi + Star_formation2 + If3\n"
   ]
  },
  {
   "cell_type": "code",
   "execution_count": 6,
   "id": "2b43ee04-806a-463a-bfcb-9be0e04dda3f",
   "metadata": {
    "tags": []
   },
   "outputs": [
    {
     "name": "stdout",
     "output_type": "stream",
     "text": [
      "Total number of features: 208\n"
     ]
    }
   ],
   "source": [
    "# Counting and printing the total number of features\n",
    "total_features = len(all_features)\n",
    "print(f\"Total number of features: {total_features}\")"
   ]
  },
  {
   "cell_type": "markdown",
   "id": "45629566-b98e-48b7-9370-a4c7df14d021",
   "metadata": {},
   "source": [
    "---"
   ]
  },
  {
   "cell_type": "markdown",
   "id": "7792a166-798a-462a-9feb-ec5f9c981434",
   "metadata": {},
   "source": [
    "### Data cleaning"
   ]
  },
  {
   "cell_type": "markdown",
   "id": "10fc5f93-0ed3-4fc6-bb76-bf07ff229a59",
   "metadata": {},
   "source": [
    "Using the `all_features` list, we filter the `df` DataFrame to retain only our desired columns. To ensure data quality, we keep features where at least `95%` of the data is non-missing. The result is the filtered_df DataFrame, which offers a refined and more complete dataset for analysis."
   ]
  },
  {
   "cell_type": "code",
   "execution_count": 7,
   "id": "6546a347-692c-4908-8db0-51f9867bd57d",
   "metadata": {
    "tags": []
   },
   "outputs": [
    {
     "data": {
      "text/plain": [
       "(5224, 147)"
      ]
     },
     "execution_count": 7,
     "metadata": {},
     "output_type": "execute_result"
    }
   ],
   "source": [
    "subset_df = df[all_features]\n",
    "\n",
    "# Drop columns where more than 25% of the rows are NaN\n",
    "threshold = 0.95 * len(subset_df)  # Minimum number of non-NaN values\n",
    "filtered_df = subset_df.dropna(axis=1, thresh=threshold)\n",
    "\n",
    "filtered_df.shape # Display the top rows of the filtered dataframe"
   ]
  },
  {
   "cell_type": "markdown",
   "id": "30886fd0-abb0-4276-ab2c-fdec1a733e7f",
   "metadata": {},
   "source": [
    "Now, to drop rows containing NaN values from the `filtered_df` dataframe, you can use the `dropna()` method:"
   ]
  },
  {
   "cell_type": "code",
   "execution_count": 8,
   "id": "a48ba561-ccc3-413d-a35f-0906bdd4baab",
   "metadata": {
    "tags": []
   },
   "outputs": [
    {
     "data": {
      "text/plain": [
       "(4728, 147)"
      ]
     },
     "execution_count": 8,
     "metadata": {},
     "output_type": "execute_result"
    }
   ],
   "source": [
    "mightee_df = filtered_df.dropna()\n",
    "mightee_df.shape"
   ]
  },
  {
   "cell_type": "markdown",
   "id": "9ffdf5fc-1067-4fdf-af26-d1461f6e1ae4",
   "metadata": {
    "tags": []
   },
   "source": [
    "Now, let us convert all columns of the `mightee_df` dataframe to the `float64` data type, ensuring numeric consistency for subsequent analyses."
   ]
  },
  {
   "cell_type": "code",
   "execution_count": 9,
   "id": "4f185fa8-a709-48ce-84a1-4842360e4bed",
   "metadata": {
    "tags": []
   },
   "outputs": [],
   "source": [
    "mightee_df = mightee_df.astype('float64')\n"
   ]
  },
  {
   "cell_type": "code",
   "execution_count": null,
   "id": "4acd5877-d87b-4a89-9876-4cc0aa225797",
   "metadata": {},
   "outputs": [],
   "source": []
  },
  {
   "cell_type": "markdown",
   "id": "3c32b65c-0c0f-4e1b-a87d-e85449d2393a",
   "metadata": {},
   "source": [
    "---"
   ]
  },
  {
   "cell_type": "markdown",
   "id": "6a3a17bd-7350-4a52-a7b3-7215756b176b",
   "metadata": {},
   "source": [
    "### Descriptive Statistics:"
   ]
  },
  {
   "cell_type": "markdown",
   "id": "8b54caa9-140c-458b-ba24-8ad60e2faf07",
   "metadata": {},
   "source": [
    "**Descriptive statistics** provide a concise overview of the central tendencies, spread, and shape of the data distribution. By observing the mean, median, mode, and standard deviation, we can quickly grasp the characteristics of our dataset and identify potential anomalies or patterns."
   ]
  },
  {
   "cell_type": "code",
   "execution_count": 10,
   "id": "2111bad9-663c-40ee-bbfb-219ebc4f6ea8",
   "metadata": {
    "tags": []
   },
   "outputs": [
    {
     "data": {
      "text/html": [
       "<div>\n",
       "<style scoped>\n",
       "    .dataframe tbody tr th:only-of-type {\n",
       "        vertical-align: middle;\n",
       "    }\n",
       "\n",
       "    .dataframe tbody tr th {\n",
       "        vertical-align: top;\n",
       "    }\n",
       "\n",
       "    .dataframe thead th {\n",
       "        text-align: right;\n",
       "    }\n",
       "</style>\n",
       "<table border=\"1\" class=\"dataframe\">\n",
       "  <thead>\n",
       "    <tr style=\"text-align: right;\">\n",
       "      <th></th>\n",
       "      <th>RADIORA</th>\n",
       "      <th>RADIODEC</th>\n",
       "      <th>TOTALFLUX</th>\n",
       "      <th>TOTALFLUXERR</th>\n",
       "      <th>PEAKFLUX</th>\n",
       "      <th>PEAKFLUXERR</th>\n",
       "      <th>flux_CFHT-u</th>\n",
       "      <th>flux_CFHT-g</th>\n",
       "      <th>flux_CFHT-r</th>\n",
       "      <th>flux_CFHT-iy</th>\n",
       "      <th>...</th>\n",
       "      <th>SFR_IR_lo</th>\n",
       "      <th>SFR_IR_hi</th>\n",
       "      <th>ln_like</th>\n",
       "      <th>ln_like_lo</th>\n",
       "      <th>S14</th>\n",
       "      <th>L14</th>\n",
       "      <th>fSF</th>\n",
       "      <th>fAGN</th>\n",
       "      <th>qir</th>\n",
       "      <th>LIR_WHz</th>\n",
       "    </tr>\n",
       "  </thead>\n",
       "  <tbody>\n",
       "    <tr>\n",
       "      <th>count</th>\n",
       "      <td>4728.000000</td>\n",
       "      <td>4728.000000</td>\n",
       "      <td>4728.000000</td>\n",
       "      <td>4728.000000</td>\n",
       "      <td>4728.000000</td>\n",
       "      <td>4.728000e+03</td>\n",
       "      <td>4.728000e+03</td>\n",
       "      <td>4.728000e+03</td>\n",
       "      <td>4.728000e+03</td>\n",
       "      <td>4.728000e+03</td>\n",
       "      <td>...</td>\n",
       "      <td>4.728000e+03</td>\n",
       "      <td>4.728000e+03</td>\n",
       "      <td>4728.000000</td>\n",
       "      <td>4728.000000</td>\n",
       "      <td>4728.000000</td>\n",
       "      <td>4.728000e+03</td>\n",
       "      <td>4728.000000</td>\n",
       "      <td>4728.000000</td>\n",
       "      <td>4728.000000</td>\n",
       "      <td>4.728000e+03</td>\n",
       "    </tr>\n",
       "    <tr>\n",
       "      <th>mean</th>\n",
       "      <td>150.120362</td>\n",
       "      <td>2.211795</td>\n",
       "      <td>0.000188</td>\n",
       "      <td>0.000054</td>\n",
       "      <td>0.000129</td>\n",
       "      <td>5.491313e-06</td>\n",
       "      <td>-2.366117e+00</td>\n",
       "      <td>-2.366117e+00</td>\n",
       "      <td>-2.366117e+00</td>\n",
       "      <td>-2.366117e+00</td>\n",
       "      <td>...</td>\n",
       "      <td>3.983068e+04</td>\n",
       "      <td>1.429442e+07</td>\n",
       "      <td>-29.666621</td>\n",
       "      <td>-31.929437</td>\n",
       "      <td>0.000184</td>\n",
       "      <td>1.222841e+24</td>\n",
       "      <td>0.618868</td>\n",
       "      <td>0.442250</td>\n",
       "      <td>2.038476</td>\n",
       "      <td>4.890750e+28</td>\n",
       "    </tr>\n",
       "    <tr>\n",
       "      <th>std</th>\n",
       "      <td>0.248548</td>\n",
       "      <td>0.246809</td>\n",
       "      <td>0.001908</td>\n",
       "      <td>0.001863</td>\n",
       "      <td>0.000711</td>\n",
       "      <td>8.963718e-07</td>\n",
       "      <td>1.512268e+01</td>\n",
       "      <td>1.512268e+01</td>\n",
       "      <td>1.512268e+01</td>\n",
       "      <td>1.512268e+01</td>\n",
       "      <td>...</td>\n",
       "      <td>2.732992e+06</td>\n",
       "      <td>9.703930e+08</td>\n",
       "      <td>287.927957</td>\n",
       "      <td>287.931598</td>\n",
       "      <td>0.001862</td>\n",
       "      <td>1.187145e+25</td>\n",
       "      <td>0.278268</td>\n",
       "      <td>0.245798</td>\n",
       "      <td>0.723402</td>\n",
       "      <td>3.182789e+30</td>\n",
       "    </tr>\n",
       "    <tr>\n",
       "      <th>min</th>\n",
       "      <td>149.604801</td>\n",
       "      <td>1.691269</td>\n",
       "      <td>0.000001</td>\n",
       "      <td>0.000000</td>\n",
       "      <td>0.000009</td>\n",
       "      <td>0.000000e+00</td>\n",
       "      <td>-9.900000e+01</td>\n",
       "      <td>-9.900000e+01</td>\n",
       "      <td>-9.900000e+01</td>\n",
       "      <td>-9.900000e+01</td>\n",
       "      <td>...</td>\n",
       "      <td>0.000000e+00</td>\n",
       "      <td>0.000000e+00</td>\n",
       "      <td>-19529.139000</td>\n",
       "      <td>-19531.475700</td>\n",
       "      <td>0.000001</td>\n",
       "      <td>3.355087e+14</td>\n",
       "      <td>0.000014</td>\n",
       "      <td>0.000958</td>\n",
       "      <td>-2.621464</td>\n",
       "      <td>1.281598e+15</td>\n",
       "    </tr>\n",
       "    <tr>\n",
       "      <th>25%</th>\n",
       "      <td>149.925725</td>\n",
       "      <td>2.024654</td>\n",
       "      <td>0.000037</td>\n",
       "      <td>0.000009</td>\n",
       "      <td>0.000034</td>\n",
       "      <td>4.940000e-06</td>\n",
       "      <td>7.723275e-31</td>\n",
       "      <td>1.600352e-30</td>\n",
       "      <td>3.116926e-30</td>\n",
       "      <td>5.831762e-30</td>\n",
       "      <td>...</td>\n",
       "      <td>5.511975e+00</td>\n",
       "      <td>1.114987e+01</td>\n",
       "      <td>-22.888650</td>\n",
       "      <td>-25.187875</td>\n",
       "      <td>0.000037</td>\n",
       "      <td>6.301720e+22</td>\n",
       "      <td>0.473430</td>\n",
       "      <td>0.260485</td>\n",
       "      <td>1.892425</td>\n",
       "      <td>6.994149e+24</td>\n",
       "    </tr>\n",
       "    <tr>\n",
       "      <th>50%</th>\n",
       "      <td>150.116940</td>\n",
       "      <td>2.213796</td>\n",
       "      <td>0.000053</td>\n",
       "      <td>0.000010</td>\n",
       "      <td>0.000048</td>\n",
       "      <td>5.430000e-06</td>\n",
       "      <td>2.868805e-30</td>\n",
       "      <td>5.504524e-30</td>\n",
       "      <td>1.231139e-29</td>\n",
       "      <td>2.687252e-29</td>\n",
       "      <td>...</td>\n",
       "      <td>2.526705e+01</td>\n",
       "      <td>3.838080e+01</td>\n",
       "      <td>-14.516150</td>\n",
       "      <td>-16.790300</td>\n",
       "      <td>0.000052</td>\n",
       "      <td>1.971809e+23</td>\n",
       "      <td>0.685507</td>\n",
       "      <td>0.395311</td>\n",
       "      <td>2.251298</td>\n",
       "      <td>2.471776e+25</td>\n",
       "    </tr>\n",
       "    <tr>\n",
       "      <th>75%</th>\n",
       "      <td>150.319038</td>\n",
       "      <td>2.402596</td>\n",
       "      <td>0.000086</td>\n",
       "      <td>0.000011</td>\n",
       "      <td>0.000077</td>\n",
       "      <td>6.030000e-06</td>\n",
       "      <td>1.189544e-29</td>\n",
       "      <td>2.336621e-29</td>\n",
       "      <td>5.529848e-29</td>\n",
       "      <td>1.096967e-28</td>\n",
       "      <td>...</td>\n",
       "      <td>7.993025e+01</td>\n",
       "      <td>1.180526e+02</td>\n",
       "      <td>-10.307000</td>\n",
       "      <td>-12.521625</td>\n",
       "      <td>0.000084</td>\n",
       "      <td>6.093008e+23</td>\n",
       "      <td>0.836941</td>\n",
       "      <td>0.604697</td>\n",
       "      <td>2.443679</td>\n",
       "      <td>7.483627e+25</td>\n",
       "    </tr>\n",
       "    <tr>\n",
       "      <th>max</th>\n",
       "      <td>150.635845</td>\n",
       "      <td>2.720006</td>\n",
       "      <td>0.087684</td>\n",
       "      <td>0.115520</td>\n",
       "      <td>0.025939</td>\n",
       "      <td>8.090000e-06</td>\n",
       "      <td>7.376022e-27</td>\n",
       "      <td>1.100876e-26</td>\n",
       "      <td>1.303079e-26</td>\n",
       "      <td>1.211518e-26</td>\n",
       "      <td>...</td>\n",
       "      <td>1.879218e+08</td>\n",
       "      <td>6.672216e+10</td>\n",
       "      <td>-3.423700</td>\n",
       "      <td>-4.986900</td>\n",
       "      <td>0.085602</td>\n",
       "      <td>5.456167e+26</td>\n",
       "      <td>1.000000</td>\n",
       "      <td>0.999996</td>\n",
       "      <td>8.373340</td>\n",
       "      <td>2.185097e+32</td>\n",
       "    </tr>\n",
       "  </tbody>\n",
       "</table>\n",
       "<p>8 rows × 147 columns</p>\n",
       "</div>"
      ],
      "text/plain": [
       "           RADIORA     RADIODEC    TOTALFLUX  TOTALFLUXERR     PEAKFLUX  \\\n",
       "count  4728.000000  4728.000000  4728.000000   4728.000000  4728.000000   \n",
       "mean    150.120362     2.211795     0.000188      0.000054     0.000129   \n",
       "std       0.248548     0.246809     0.001908      0.001863     0.000711   \n",
       "min     149.604801     1.691269     0.000001      0.000000     0.000009   \n",
       "25%     149.925725     2.024654     0.000037      0.000009     0.000034   \n",
       "50%     150.116940     2.213796     0.000053      0.000010     0.000048   \n",
       "75%     150.319038     2.402596     0.000086      0.000011     0.000077   \n",
       "max     150.635845     2.720006     0.087684      0.115520     0.025939   \n",
       "\n",
       "        PEAKFLUXERR   flux_CFHT-u   flux_CFHT-g   flux_CFHT-r  flux_CFHT-iy  \\\n",
       "count  4.728000e+03  4.728000e+03  4.728000e+03  4.728000e+03  4.728000e+03   \n",
       "mean   5.491313e-06 -2.366117e+00 -2.366117e+00 -2.366117e+00 -2.366117e+00   \n",
       "std    8.963718e-07  1.512268e+01  1.512268e+01  1.512268e+01  1.512268e+01   \n",
       "min    0.000000e+00 -9.900000e+01 -9.900000e+01 -9.900000e+01 -9.900000e+01   \n",
       "25%    4.940000e-06  7.723275e-31  1.600352e-30  3.116926e-30  5.831762e-30   \n",
       "50%    5.430000e-06  2.868805e-30  5.504524e-30  1.231139e-29  2.687252e-29   \n",
       "75%    6.030000e-06  1.189544e-29  2.336621e-29  5.529848e-29  1.096967e-28   \n",
       "max    8.090000e-06  7.376022e-27  1.100876e-26  1.303079e-26  1.211518e-26   \n",
       "\n",
       "       ...     SFR_IR_lo     SFR_IR_hi       ln_like    ln_like_lo  \\\n",
       "count  ...  4.728000e+03  4.728000e+03   4728.000000   4728.000000   \n",
       "mean   ...  3.983068e+04  1.429442e+07    -29.666621    -31.929437   \n",
       "std    ...  2.732992e+06  9.703930e+08    287.927957    287.931598   \n",
       "min    ...  0.000000e+00  0.000000e+00 -19529.139000 -19531.475700   \n",
       "25%    ...  5.511975e+00  1.114987e+01    -22.888650    -25.187875   \n",
       "50%    ...  2.526705e+01  3.838080e+01    -14.516150    -16.790300   \n",
       "75%    ...  7.993025e+01  1.180526e+02    -10.307000    -12.521625   \n",
       "max    ...  1.879218e+08  6.672216e+10     -3.423700     -4.986900   \n",
       "\n",
       "               S14           L14          fSF         fAGN          qir  \\\n",
       "count  4728.000000  4.728000e+03  4728.000000  4728.000000  4728.000000   \n",
       "mean      0.000184  1.222841e+24     0.618868     0.442250     2.038476   \n",
       "std       0.001862  1.187145e+25     0.278268     0.245798     0.723402   \n",
       "min       0.000001  3.355087e+14     0.000014     0.000958    -2.621464   \n",
       "25%       0.000037  6.301720e+22     0.473430     0.260485     1.892425   \n",
       "50%       0.000052  1.971809e+23     0.685507     0.395311     2.251298   \n",
       "75%       0.000084  6.093008e+23     0.836941     0.604697     2.443679   \n",
       "max       0.085602  5.456167e+26     1.000000     0.999996     8.373340   \n",
       "\n",
       "            LIR_WHz  \n",
       "count  4.728000e+03  \n",
       "mean   4.890750e+28  \n",
       "std    3.182789e+30  \n",
       "min    1.281598e+15  \n",
       "25%    6.994149e+24  \n",
       "50%    2.471776e+25  \n",
       "75%    7.483627e+25  \n",
       "max    2.185097e+32  \n",
       "\n",
       "[8 rows x 147 columns]"
      ]
     },
     "execution_count": 10,
     "metadata": {},
     "output_type": "execute_result"
    }
   ],
   "source": [
    "desc_stats = mightee_df.describe()\n",
    "\n",
    "# Display the statistics\n",
    "desc_stats"
   ]
  },
  {
   "cell_type": "markdown",
   "id": "dc968479-94e3-4b5b-aad0-a8f01a1f8337",
   "metadata": {},
   "source": [
    "### Data Normalization"
   ]
  },
  {
   "cell_type": "markdown",
   "id": "d4c96a96-1b15-4148-a8b3-8d436101600d",
   "metadata": {},
   "source": [
    "From our descriptive statistics and visual data exploration, we notice discrepancies in the scale of our features. Different scales can skew our data visualization and mask meaningful patterns. By normalizing, we rescale features to the range `[0,1]`, ensuring uniformity for better data visualization and insights.\n",
    "\n"
   ]
  },
  {
   "cell_type": "code",
   "execution_count": 11,
   "id": "e0722f58-17ef-45d0-adde-cf15ec5578d3",
   "metadata": {
    "tags": []
   },
   "outputs": [],
   "source": [
    "from sklearn.preprocessing import MinMaxScaler\n",
    "\n",
    "scaler = MinMaxScaler()\n",
    "normalized_mightee = scaler.fit_transform(mightee_df)\n",
    "normalized_mightee = pd.DataFrame(normalized_mightee, columns=mightee_df.columns)"
   ]
  },
  {
   "cell_type": "code",
   "execution_count": 12,
   "id": "af600115-8dd1-462e-b3c8-270f89dad766",
   "metadata": {
    "tags": []
   },
   "outputs": [
    {
     "data": {
      "text/html": [
       "<div>\n",
       "<style scoped>\n",
       "    .dataframe tbody tr th:only-of-type {\n",
       "        vertical-align: middle;\n",
       "    }\n",
       "\n",
       "    .dataframe tbody tr th {\n",
       "        vertical-align: top;\n",
       "    }\n",
       "\n",
       "    .dataframe thead th {\n",
       "        text-align: right;\n",
       "    }\n",
       "</style>\n",
       "<table border=\"1\" class=\"dataframe\">\n",
       "  <thead>\n",
       "    <tr style=\"text-align: right;\">\n",
       "      <th></th>\n",
       "      <th>RADIORA</th>\n",
       "      <th>RADIODEC</th>\n",
       "      <th>TOTALFLUX</th>\n",
       "      <th>TOTALFLUXERR</th>\n",
       "      <th>PEAKFLUX</th>\n",
       "      <th>PEAKFLUXERR</th>\n",
       "      <th>flux_CFHT-u</th>\n",
       "      <th>flux_CFHT-g</th>\n",
       "      <th>flux_CFHT-r</th>\n",
       "      <th>flux_CFHT-iy</th>\n",
       "      <th>...</th>\n",
       "      <th>SFR_IR_lo</th>\n",
       "      <th>SFR_IR_hi</th>\n",
       "      <th>ln_like</th>\n",
       "      <th>ln_like_lo</th>\n",
       "      <th>S14</th>\n",
       "      <th>L14</th>\n",
       "      <th>fSF</th>\n",
       "      <th>fAGN</th>\n",
       "      <th>qir</th>\n",
       "      <th>LIR_WHz</th>\n",
       "    </tr>\n",
       "  </thead>\n",
       "  <tbody>\n",
       "    <tr>\n",
       "      <th>count</th>\n",
       "      <td>4728.000000</td>\n",
       "      <td>4728.000000</td>\n",
       "      <td>4728.000000</td>\n",
       "      <td>4728.000000</td>\n",
       "      <td>4728.000000</td>\n",
       "      <td>4728.000000</td>\n",
       "      <td>4728.000000</td>\n",
       "      <td>4728.000000</td>\n",
       "      <td>4728.000000</td>\n",
       "      <td>4728.000000</td>\n",
       "      <td>...</td>\n",
       "      <td>4.728000e+03</td>\n",
       "      <td>4.728000e+03</td>\n",
       "      <td>4728.000000</td>\n",
       "      <td>4728.000000</td>\n",
       "      <td>4728.000000</td>\n",
       "      <td>4728.000000</td>\n",
       "      <td>4728.000000</td>\n",
       "      <td>4728.000000</td>\n",
       "      <td>4728.000000</td>\n",
       "      <td>4.728000e+03</td>\n",
       "    </tr>\n",
       "    <tr>\n",
       "      <th>mean</th>\n",
       "      <td>0.500038</td>\n",
       "      <td>0.505986</td>\n",
       "      <td>0.002127</td>\n",
       "      <td>0.000468</td>\n",
       "      <td>0.004640</td>\n",
       "      <td>0.678778</td>\n",
       "      <td>0.976100</td>\n",
       "      <td>0.976100</td>\n",
       "      <td>0.976100</td>\n",
       "      <td>0.976100</td>\n",
       "      <td>...</td>\n",
       "      <td>2.119535e-04</td>\n",
       "      <td>2.142379e-04</td>\n",
       "      <td>0.998656</td>\n",
       "      <td>0.998620</td>\n",
       "      <td>0.002133</td>\n",
       "      <td>0.002241</td>\n",
       "      <td>0.618862</td>\n",
       "      <td>0.441717</td>\n",
       "      <td>0.423831</td>\n",
       "      <td>2.238230e-04</td>\n",
       "    </tr>\n",
       "    <tr>\n",
       "      <th>std</th>\n",
       "      <td>0.241064</td>\n",
       "      <td>0.239914</td>\n",
       "      <td>0.021755</td>\n",
       "      <td>0.016128</td>\n",
       "      <td>0.027415</td>\n",
       "      <td>0.110800</td>\n",
       "      <td>0.152754</td>\n",
       "      <td>0.152754</td>\n",
       "      <td>0.152754</td>\n",
       "      <td>0.152754</td>\n",
       "      <td>...</td>\n",
       "      <td>1.454324e-02</td>\n",
       "      <td>1.454379e-02</td>\n",
       "      <td>0.014746</td>\n",
       "      <td>0.014746</td>\n",
       "      <td>0.021750</td>\n",
       "      <td>0.021758</td>\n",
       "      <td>0.278272</td>\n",
       "      <td>0.246034</td>\n",
       "      <td>0.065795</td>\n",
       "      <td>1.456589e-02</td>\n",
       "    </tr>\n",
       "    <tr>\n",
       "      <th>min</th>\n",
       "      <td>0.000000</td>\n",
       "      <td>0.000000</td>\n",
       "      <td>0.000000</td>\n",
       "      <td>0.000000</td>\n",
       "      <td>0.000000</td>\n",
       "      <td>0.000000</td>\n",
       "      <td>0.000000</td>\n",
       "      <td>0.000000</td>\n",
       "      <td>0.000000</td>\n",
       "      <td>0.000000</td>\n",
       "      <td>...</td>\n",
       "      <td>0.000000e+00</td>\n",
       "      <td>0.000000e+00</td>\n",
       "      <td>0.000000</td>\n",
       "      <td>0.000000</td>\n",
       "      <td>0.000000</td>\n",
       "      <td>0.000000</td>\n",
       "      <td>0.000000</td>\n",
       "      <td>0.000000</td>\n",
       "      <td>0.000000</td>\n",
       "      <td>0.000000e+00</td>\n",
       "    </tr>\n",
       "    <tr>\n",
       "      <th>25%</th>\n",
       "      <td>0.311261</td>\n",
       "      <td>0.324072</td>\n",
       "      <td>0.000411</td>\n",
       "      <td>0.000076</td>\n",
       "      <td>0.000988</td>\n",
       "      <td>0.610630</td>\n",
       "      <td>1.000000</td>\n",
       "      <td>1.000000</td>\n",
       "      <td>1.000000</td>\n",
       "      <td>1.000000</td>\n",
       "      <td>...</td>\n",
       "      <td>2.933121e-08</td>\n",
       "      <td>1.671090e-10</td>\n",
       "      <td>0.999003</td>\n",
       "      <td>0.998965</td>\n",
       "      <td>0.000414</td>\n",
       "      <td>0.000115</td>\n",
       "      <td>0.473423</td>\n",
       "      <td>0.259777</td>\n",
       "      <td>0.410547</td>\n",
       "      <td>3.200841e-08</td>\n",
       "    </tr>\n",
       "    <tr>\n",
       "      <th>50%</th>\n",
       "      <td>0.496719</td>\n",
       "      <td>0.507931</td>\n",
       "      <td>0.000594</td>\n",
       "      <td>0.000086</td>\n",
       "      <td>0.001492</td>\n",
       "      <td>0.671199</td>\n",
       "      <td>1.000000</td>\n",
       "      <td>1.000000</td>\n",
       "      <td>1.000000</td>\n",
       "      <td>1.000000</td>\n",
       "      <td>...</td>\n",
       "      <td>1.344551e-07</td>\n",
       "      <td>5.752331e-10</td>\n",
       "      <td>0.999432</td>\n",
       "      <td>0.999396</td>\n",
       "      <td>0.000596</td>\n",
       "      <td>0.000361</td>\n",
       "      <td>0.685503</td>\n",
       "      <td>0.394733</td>\n",
       "      <td>0.443188</td>\n",
       "      <td>1.131197e-07</td>\n",
       "    </tr>\n",
       "    <tr>\n",
       "      <th>75%</th>\n",
       "      <td>0.692732</td>\n",
       "      <td>0.691456</td>\n",
       "      <td>0.000960</td>\n",
       "      <td>0.000099</td>\n",
       "      <td>0.002641</td>\n",
       "      <td>0.745365</td>\n",
       "      <td>1.000000</td>\n",
       "      <td>1.000000</td>\n",
       "      <td>1.000000</td>\n",
       "      <td>1.000000</td>\n",
       "      <td>...</td>\n",
       "      <td>4.253377e-07</td>\n",
       "      <td>1.769316e-09</td>\n",
       "      <td>0.999647</td>\n",
       "      <td>0.999614</td>\n",
       "      <td>0.000961</td>\n",
       "      <td>0.001117</td>\n",
       "      <td>0.836939</td>\n",
       "      <td>0.604321</td>\n",
       "      <td>0.460685</td>\n",
       "      <td>3.424848e-07</td>\n",
       "    </tr>\n",
       "    <tr>\n",
       "      <th>max</th>\n",
       "      <td>1.000000</td>\n",
       "      <td>1.000000</td>\n",
       "      <td>1.000000</td>\n",
       "      <td>1.000000</td>\n",
       "      <td>1.000000</td>\n",
       "      <td>1.000000</td>\n",
       "      <td>1.000000</td>\n",
       "      <td>1.000000</td>\n",
       "      <td>1.000000</td>\n",
       "      <td>1.000000</td>\n",
       "      <td>...</td>\n",
       "      <td>1.000000e+00</td>\n",
       "      <td>1.000000e+00</td>\n",
       "      <td>1.000000</td>\n",
       "      <td>1.000000</td>\n",
       "      <td>1.000000</td>\n",
       "      <td>1.000000</td>\n",
       "      <td>1.000000</td>\n",
       "      <td>1.000000</td>\n",
       "      <td>1.000000</td>\n",
       "      <td>1.000000e+00</td>\n",
       "    </tr>\n",
       "  </tbody>\n",
       "</table>\n",
       "<p>8 rows × 147 columns</p>\n",
       "</div>"
      ],
      "text/plain": [
       "           RADIORA     RADIODEC    TOTALFLUX  TOTALFLUXERR     PEAKFLUX  \\\n",
       "count  4728.000000  4728.000000  4728.000000   4728.000000  4728.000000   \n",
       "mean      0.500038     0.505986     0.002127      0.000468     0.004640   \n",
       "std       0.241064     0.239914     0.021755      0.016128     0.027415   \n",
       "min       0.000000     0.000000     0.000000      0.000000     0.000000   \n",
       "25%       0.311261     0.324072     0.000411      0.000076     0.000988   \n",
       "50%       0.496719     0.507931     0.000594      0.000086     0.001492   \n",
       "75%       0.692732     0.691456     0.000960      0.000099     0.002641   \n",
       "max       1.000000     1.000000     1.000000      1.000000     1.000000   \n",
       "\n",
       "       PEAKFLUXERR  flux_CFHT-u  flux_CFHT-g  flux_CFHT-r  flux_CFHT-iy  ...  \\\n",
       "count  4728.000000  4728.000000  4728.000000  4728.000000   4728.000000  ...   \n",
       "mean      0.678778     0.976100     0.976100     0.976100      0.976100  ...   \n",
       "std       0.110800     0.152754     0.152754     0.152754      0.152754  ...   \n",
       "min       0.000000     0.000000     0.000000     0.000000      0.000000  ...   \n",
       "25%       0.610630     1.000000     1.000000     1.000000      1.000000  ...   \n",
       "50%       0.671199     1.000000     1.000000     1.000000      1.000000  ...   \n",
       "75%       0.745365     1.000000     1.000000     1.000000      1.000000  ...   \n",
       "max       1.000000     1.000000     1.000000     1.000000      1.000000  ...   \n",
       "\n",
       "          SFR_IR_lo     SFR_IR_hi      ln_like   ln_like_lo          S14  \\\n",
       "count  4.728000e+03  4.728000e+03  4728.000000  4728.000000  4728.000000   \n",
       "mean   2.119535e-04  2.142379e-04     0.998656     0.998620     0.002133   \n",
       "std    1.454324e-02  1.454379e-02     0.014746     0.014746     0.021750   \n",
       "min    0.000000e+00  0.000000e+00     0.000000     0.000000     0.000000   \n",
       "25%    2.933121e-08  1.671090e-10     0.999003     0.998965     0.000414   \n",
       "50%    1.344551e-07  5.752331e-10     0.999432     0.999396     0.000596   \n",
       "75%    4.253377e-07  1.769316e-09     0.999647     0.999614     0.000961   \n",
       "max    1.000000e+00  1.000000e+00     1.000000     1.000000     1.000000   \n",
       "\n",
       "               L14          fSF         fAGN          qir       LIR_WHz  \n",
       "count  4728.000000  4728.000000  4728.000000  4728.000000  4.728000e+03  \n",
       "mean      0.002241     0.618862     0.441717     0.423831  2.238230e-04  \n",
       "std       0.021758     0.278272     0.246034     0.065795  1.456589e-02  \n",
       "min       0.000000     0.000000     0.000000     0.000000  0.000000e+00  \n",
       "25%       0.000115     0.473423     0.259777     0.410547  3.200841e-08  \n",
       "50%       0.000361     0.685503     0.394733     0.443188  1.131197e-07  \n",
       "75%       0.001117     0.836939     0.604321     0.460685  3.424848e-07  \n",
       "max       1.000000     1.000000     1.000000     1.000000  1.000000e+00  \n",
       "\n",
       "[8 rows x 147 columns]"
      ]
     },
     "execution_count": 12,
     "metadata": {},
     "output_type": "execute_result"
    }
   ],
   "source": [
    "normalized_mightee.describe()"
   ]
  },
  {
   "cell_type": "markdown",
   "id": "08de3736-10e5-4704-8b16-8a4216b7f18d",
   "metadata": {},
   "source": [
    "---"
   ]
  },
  {
   "cell_type": "markdown",
   "id": "f63c85fd-976e-4281-b501-d8f4811fa9ee",
   "metadata": {},
   "source": [
    "### Freature selection"
   ]
  },
  {
   "cell_type": "markdown",
   "id": "6b4e280f-da12-4c3c-bb3a-c198e33f3762",
   "metadata": {},
   "source": [
    "Having 147 features can be overwhelming for visualization and clustering. To simplify our dataset and remove redundant or highly correlated features, we can utilize correlation analysis. By examining how features correlate with one another, we can identify and remove those that offer similar information, thus streamlining our dataset for more effective analysis."
   ]
  },
  {
   "cell_type": "code",
   "execution_count": 13,
   "id": "108aae15-79ab-4e49-9092-d3521bd19d94",
   "metadata": {
    "tags": []
   },
   "outputs": [],
   "source": [
    "correlation_matrix = mightee_df.corr()\n",
    "upper_tri = correlation_matrix.where(np.triu(np.ones(correlation_matrix.shape), k=1).astype(bool))\n",
    "\n",
    "# Find index of feature columns with correlation greater than 0.95\n",
    "to_drop = [column for column in upper_tri.columns if any(upper_tri[column] > 0.80)]\n",
    "\n",
    "mightee_df.drop(columns=to_drop, inplace=True)"
   ]
  },
  {
   "cell_type": "code",
   "execution_count": 14,
   "id": "712b9bde-7660-4fa9-8974-070f1a2dddfb",
   "metadata": {
    "tags": []
   },
   "outputs": [
    {
     "data": {
      "text/plain": [
       "(4728, 46)"
      ]
     },
     "execution_count": 14,
     "metadata": {},
     "output_type": "execute_result"
    }
   ],
   "source": [
    "mightee_df.shape"
   ]
  },
  {
   "cell_type": "markdown",
   "id": "e31d8e72-68f1-4009-bc27-86ccb3d06ce1",
   "metadata": {
    "tags": []
   },
   "source": [
    "---"
   ]
  },
  {
   "cell_type": "markdown",
   "id": "c8d3f816-48d1-4831-aa65-ab31b60e7142",
   "metadata": {
    "tags": []
   },
   "source": [
    "### Data Visualisation"
   ]
  },
  {
   "cell_type": "markdown",
   "id": "2d35e645-c566-4e94-84d0-08af248931d9",
   "metadata": {},
   "source": [
    "Well, I will let you explore the all 46 features, but I am goint to explore only 3, which are:\n",
    "\n",
    "- qir\n",
    "- Mstar\n",
    "- COS_best_z_v5"
   ]
  },
  {
   "cell_type": "code",
   "execution_count": 15,
   "id": "05acbe21-15a1-4bc3-810b-759b62fd187f",
   "metadata": {
    "tags": []
   },
   "outputs": [
    {
     "data": {
      "image/png": "[encoded data removed]",
      "text/plain": [
       "<Figure size 637.472x500 with 6 Axes>"
      ]
     },
     "metadata": {},
     "output_type": "display_data"
    }
   ],
   "source": [
    "import seaborn as sns\n",
    "\n",
    "# Settings for better visualization\n",
    "sns.set(font_scale=1)\n",
    "sns.set_style('ticks')\n",
    "\n",
    "# Using pairplot with hue as 'class_star'\n",
    "sns.pairplot(mightee_df[['Mstar', 'qir', 'COS_best_z_v5']], hue='COS_best_z_v5')\n",
    "plt.show()"
   ]
  },
  {
   "cell_type": "markdown",
   "id": "d1a7dfdb-b719-445a-9cc3-38432b4a49ee",
   "metadata": {},
   "source": [
    "----"
   ]
  },
  {
   "cell_type": "markdown",
   "id": "d6bf59b6-ab8c-4c00-bbfa-85faf8e2c29e",
   "metadata": {},
   "source": [
    "### Saving the data"
   ]
  },
  {
   "cell_type": "markdown",
   "id": "082ff8c1-9b67-40bf-832d-a8112c0cbbe6",
   "metadata": {},
   "source": [
    "After normalizing and cleaning the data, let's save it, focusing on the three selected features mentioned above we visualised above."
   ]
  },
  {
   "cell_type": "code",
   "execution_count": 19,
   "id": "77b88a3f-ab0b-491d-a22d-696e2eae1ef3",
   "metadata": {},
   "outputs": [],
   "source": [
    "import pickle\n",
    "\n",
    "with open(\"mightee.pkl\", \"wb\") as file:\n",
    "    pickle.dump(mightee_df[['Mstar', 'qir', 'COS_best_z_v5']], file)"
   ]
  },
  {
   "cell_type": "code",
   "execution_count": null,
   "id": "480e3783-3f74-41d8-bfef-841f8f6180b4",
   "metadata": {},
   "outputs": [],
   "source": []
  }
 ],
 "metadata": {
  "kernelspec": {
   "display_name": "ASTRO-GPU (TensorFlow)",
   "language": "python",
   "name": "astro-gpu"
  },
  "language_info": {
   "codemirror_mode": {
    "name": "ipython",
    "version": 3
   },
   "file_extension": ".py",
   "mimetype": "text/x-python",
   "name": "python",
   "nbconvert_exporter": "python",
   "pygments_lexer": "ipython3",
   "version": "3.8.10"
  }
 },
 "nbformat": 4,
 "nbformat_minor": 5
}
