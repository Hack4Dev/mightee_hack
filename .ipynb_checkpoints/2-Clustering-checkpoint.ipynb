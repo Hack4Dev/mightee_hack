{
 "cells": [
  {
   "cell_type": "markdown",
   "id": "5aee29d1-7622-43b1-9c45-278802fc6e31",
   "metadata": {},
   "source": [
    "## Notebook 2: Clustering"
   ]
  },
  {
   "cell_type": "markdown",
   "id": "00a11e10-ebfc-487f-bbd2-e551b30c2c95",
   "metadata": {},
   "source": [
    "Welcome! This notebook aims to apply clustering to discern between AGNs and SFGs, uncovering inherent groupings and validating them against known truths.\n"
   ]
  },
  {
   "cell_type": "markdown",
   "id": "d5449fcf-0b6b-47d0-842e-fe7d0dc270e2",
   "metadata": {},
   "source": [
    "---"
   ]
  },
  {
   "cell_type": "markdown",
   "id": "b75934c8-e187-46c3-932a-40a6206329a5",
   "metadata": {},
   "source": [
    "## Introduction "
   ]
  },
  {
   "cell_type": "markdown",
   "id": "c3b4cde4-fdd2-44a8-adb6-14d8a0af09fb",
   "metadata": {},
   "source": [
    " ### Brief overview of AGN and SFGs"
   ]
  },
  {
   "cell_type": "markdown",
   "id": "f460b4af-f64b-4072-aab5-152e0d96d5d1",
   "metadata": {},
   "source": [
    "AGN, or Active Galactic Nuclei, are galaxies that emit a significant fraction of their luminosity from a central supermassive black hole, often overshadowing the regular emissions from the galaxy itself. These intense radiations arise from the gravitational energy released as matter accretes onto the black hole. On the other hand, Star-Forming Galaxies (SFGs) are dominated by star formation processes. Their radio emissions are primarily due to synchrotron radiation produced by relativistic electrons and free-free emissions from HII regions. Differentiating between these two is crucial for understanding galaxy formation and evolution."
   ]
  },
  {
   "cell_type": "markdown",
   "id": "cf111e1d-761a-4e42-93a9-e1f7451c5862",
   "metadata": {},
   "source": [
    "### What is Clustering"
   ]
  },
  {
   "cell_type": "markdown",
   "id": "da11ad7b-f3ae-4fe8-8338-ad5bbcc6d847",
   "metadata": {},
   "source": [
    "Clustering is a method of unsupervised machine learning where data points are grouped into subsets or \"clusters\" based on their similarities, without having prior labels for the groups. The goal is to ensure that data points in the same cluster are more similar to each other than to those in other clusters. Common applications include customer segmentation, image segmentation, and anomaly detection. Clustering techniques, such as K-Means, Hierarchical, and DBSCAN, are often employed depending on the nature of the data and the specific requirements of a task."
   ]
  },
  {
   "cell_type": "markdown",
   "id": "d43c172c-a1ae-462e-8b0b-c2e7d321e664",
   "metadata": {},
   "source": [
    "### Objective"
   ]
  },
  {
   "cell_type": "markdown",
   "id": "1905aff5-7e9e-4ff4-9660-ad11b62081ad",
   "metadata": {},
   "source": [
    "Objective: Our primary aim in this notebook is to employ unsupervised learning techniques to effectively cluster and differentiate between AGN and SFGs. By analyzing their inherent features and patterns, we hope to unveil the distinct characteristics that set these two entities apart.\n",
    "\n"
   ]
  },
  {
   "cell_type": "markdown",
   "id": "6b9c88bd-c688-4534-86da-4c35a920d465",
   "metadata": {},
   "source": [
    "---"
   ]
  },
  {
   "cell_type": "markdown",
   "id": "d2f37061-72d3-4397-9923-0097ca338ef0",
   "metadata": {},
   "source": [
    "### Loading the data"
   ]
  },
  {
   "cell_type": "code",
   "execution_count": null,
   "id": "34dd5eed-45ba-428c-80af-a7f47652e87a",
   "metadata": {
    "tags": []
   },
   "outputs": [],
   "source": [
    "import pickle\n",
    "\n",
    "# Loading data from pickle file\n",
    "with open(\"mightee3Feat.pkl\", \"rb\") as file:\n",
    "    mightee_data = pickle.load(file)\n",
    "\n",
    "print(mightee_data)  "
   ]
  },
  {
   "cell_type": "markdown",
   "id": "76c6912b-1f24-47ab-a9ae-98126148cfcb",
   "metadata": {},
   "source": [
    "---"
   ]
  },
  {
   "cell_type": "markdown",
   "id": "8abeefc4-b0ea-4696-8d4b-eb5f0a89ea28",
   "metadata": {},
   "source": [
    "### Clustering using KMeans"
   ]
  },
  {
   "cell_type": "markdown",
   "id": "8613b9e9-4334-4e33-95cc-fa8ca85d0fb9",
   "metadata": {
    "tags": []
   },
   "source": [
    "#### Initializing KMeans with Two Clusters:\n",
    "We're setting up the KMeans algorithm to identify two clusters, representing the Active Galactic Nuclei AGN and Star-Forming Galaxies (SFGs). This configuration aims to segment the data into these two distinct categories based on inherent features.\n",
    "\n"
   ]
  },
  {
   "cell_type": "code",
   "execution_count": null,
   "id": "2d8ac76b-b22e-4bfd-8852-8b4d1efcb0a2",
   "metadata": {
    "tags": []
   },
   "outputs": [],
   "source": [
    "k_optimal = 2"
   ]
  },
  {
   "cell_type": "markdown",
   "id": "9f4389cb-766f-4f1b-9ec7-881177112788",
   "metadata": {},
   "source": [
    "#### Training Kmeans"
   ]
  },
  {
   "cell_type": "code",
   "execution_count": null,
   "id": "a3f94470-2468-445e-b3b0-be6e964cf2de",
   "metadata": {
    "tags": []
   },
   "outputs": [],
   "source": [
    "from sklearn.cluster import KMeans"
   ]
  },
  {
   "cell_type": "code",
   "execution_count": null,
   "id": "ec79ac08-e9d9-4bfd-91be-eee297945d84",
   "metadata": {
    "tags": []
   },
   "outputs": [],
   "source": [
    "kmeans = KMeans(n_clusters=k_optimal, random_state=1912)\n",
    "# clusters = kmeans.fit_predict(mightee_data[['Mstar', 'qir']])\n",
    "clusters = kmeans.fit_predict(mightee_data[['Mstar', 'qir']])"
   ]
  },
  {
   "cell_type": "markdown",
   "id": "56c76774-e3e8-41c8-9dbf-a6dfab7f33f8",
   "metadata": {},
   "source": [
    "Now, let us count the number of samples between the two clusters"
   ]
  },
  {
   "cell_type": "code",
   "execution_count": null,
   "id": "07266e65-ab5b-41f3-b203-e815111a9e49",
   "metadata": {
    "tags": []
   },
   "outputs": [],
   "source": [
    "import numpy as np"
   ]
  },
  {
   "cell_type": "code",
   "execution_count": null,
   "id": "596a2959-e737-4d95-8290-ebaeca0d65d4",
   "metadata": {
    "tags": []
   },
   "outputs": [],
   "source": [
    "print( len(np.where(clusters==1)[0]) )\n",
    "print( len(np.where(clusters==0)[0]) )"
   ]
  },
  {
   "cell_type": "markdown",
   "id": "74f84eed-81bd-40ba-a510-59c93370c2e5",
   "metadata": {},
   "source": [
    "### Visualisation"
   ]
  },
  {
   "cell_type": "code",
   "execution_count": null,
   "id": "45906a81-fb04-4024-9913-4f0a0344569c",
   "metadata": {
    "tags": []
   },
   "outputs": [],
   "source": [
    "import matplotlib.pyplot as plt \n"
   ]
  },
  {
   "cell_type": "code",
   "execution_count": null,
   "id": "c4a030d0-e4f9-4212-a3ba-60915e0dfdad",
   "metadata": {
    "tags": []
   },
   "outputs": [],
   "source": [
    "mightee_data['Cluster'] = clusters\n",
    "\n",
    "# mightee_array = mightee_data[['Mstar', 'qir']].values\n",
    "mightee_array = mightee_data.values\n",
    "\n",
    "\n",
    "plt.scatter(mightee_array[clusters == 0, 0], mightee_array[clusters == 0, 1], label='Cluster 0')\n",
    "plt.scatter(mightee_array[clusters == 1, 0], mightee_array[clusters == 1, 1], label='Cluster 1')\n",
    "plt.scatter(kmeans.cluster_centers_[:, 0], kmeans.cluster_centers_[:, 1], s=300, c='red', label='Centroids')\n",
    "plt.legend()\n",
    "plt.show()"
   ]
  },
  {
   "cell_type": "markdown",
   "id": "f31c3aa9-31d0-4b75-ab8f-4242af2532c3",
   "metadata": {},
   "source": [
    "We advise removing the outliers for a better visualization.\n",
    "Good luck!"
   ]
  },
  {
   "cell_type": "markdown",
   "id": "a2dbc4f9-84b1-49ad-bd52-a5653bf4076a",
   "metadata": {},
   "source": [
    "---"
   ]
  },
  {
   "cell_type": "markdown",
   "id": "ba14d5ef-0b44-47ee-94f0-e0aeca63297d",
   "metadata": {},
   "source": [
    "### Testing"
   ]
  },
  {
   "cell_type": "code",
   "execution_count": null,
   "id": "75b4baa1-4812-49dd-a57a-8db681807c40",
   "metadata": {
    "tags": []
   },
   "outputs": [],
   "source": [
    "import pandas as pd\n",
    "\n",
    "val = pd.read_pickle(\"data/val.pkl\")"
   ]
  },
  {
   "cell_type": "code",
   "execution_count": null,
   "id": "b933773a-4e88-4667-bbc9-7c7f34cbff69",
   "metadata": {
    "tags": []
   },
   "outputs": [],
   "source": [
    "from sklearn.metrics import confusion_matrix, accuracy_score, classification_report"
   ]
  },
  {
   "cell_type": "code",
   "execution_count": null,
   "id": "80233bc3-3397-42cc-b7c7-671021f86805",
   "metadata": {
    "tags": []
   },
   "outputs": [],
   "source": [
    "clusters_val = kmeans.predict(val[['Mstar', 'qir']]) # Prediction on the validation set from the trained KNN model.\n",
    "\n",
    "acc = accuracy_score(val.label, clusters_val)\n",
    "\n",
    "print(f\"Accuracy: {acc}\") # if the accuracy is less than 50% then simply do 1-acc"
   ]
  },
  {
   "cell_type": "markdown",
   "id": "89429e19-4f30-4f82-873d-581a5dee6a8f",
   "metadata": {},
   "source": [
    "---"
   ]
  },
  {
   "cell_type": "markdown",
   "id": "f20f556a-6e54-4263-9b13-d15df14d4632",
   "metadata": {
    "tags": []
   },
   "source": [
    "### Hackathon Task"
   ]
  },
  {
   "cell_type": "markdown",
   "id": "41749b62-f1ac-4da9-ab1d-48cec6c08ee2",
   "metadata": {
    "tags": []
   },
   "source": [
    "As a team, come up with the best unsupervised model that can separate AGN from SFGs."
   ]
  }
 ],
 "metadata": {
  "kernelspec": {
   "display_name": "ASTRO-GPU (TensorFlow)",
   "language": "python",
   "name": "astro-gpu"
  },
  "language_info": {
   "codemirror_mode": {
    "name": "ipython",
    "version": 3
   },
   "file_extension": ".py",
   "mimetype": "text/x-python",
   "name": "python",
   "nbconvert_exporter": "python",
   "pygments_lexer": "ipython3",
   "version": "3.10.12"
  }
 },
 "nbformat": 4,
 "nbformat_minor": 5
}
