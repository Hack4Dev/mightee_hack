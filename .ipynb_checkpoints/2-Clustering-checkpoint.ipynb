{
 "cells": [
  {
   "cell_type": "markdown",
   "id": "5aee29d1-7622-43b1-9c45-278802fc6e31",
   "metadata": {},
   "source": [
    "## Notebook 2: Clustering"
   ]
  },
  {
   "cell_type": "markdown",
   "id": "00a11e10-ebfc-487f-bbd2-e551b30c2c95",
   "metadata": {},
   "source": [
    "Welcome! This notebook aims to apply clustering to discern between AGNs and SFGs, uncovering inherent groupings and validating them against known truths.\n"
   ]
  },
  {
   "cell_type": "markdown",
   "id": "d5449fcf-0b6b-47d0-842e-fe7d0dc270e2",
   "metadata": {},
   "source": [
    "---"
   ]
  },
  {
   "cell_type": "markdown",
   "id": "b75934c8-e187-46c3-932a-40a6206329a5",
   "metadata": {},
   "source": [
    "## Introduction "
   ]
  },
  {
   "cell_type": "markdown",
   "id": "c3b4cde4-fdd2-44a8-adb6-14d8a0af09fb",
   "metadata": {},
   "source": [
    " ### Brief overview of AGNs and SFG"
   ]
  },
  {
   "cell_type": "markdown",
   "id": "f460b4af-f64b-4072-aab5-152e0d96d5d1",
   "metadata": {},
   "source": [
    "AGNs, or Active Galactic Nuclei, are galaxies that emit a significant fraction of their luminosity from a central supermassive black hole, often overshadowing the regular emissions from the galaxy itself. These intense radiations arise from the gravitational energy released as matter accretes onto the black hole. On the other hand, Star-Forming Galaxies (SFGs) are dominated by star formation processes. Their radio emissions are primarily due to synchrotron radiation produced by relativistic electrons and free-free emissions from HII regions. Differentiating between these two is crucial for understanding galaxy formation and evolution."
   ]
  },
  {
   "cell_type": "markdown",
   "id": "cf111e1d-761a-4e42-93a9-e1f7451c5862",
   "metadata": {},
   "source": [
    "### What is Clustering"
   ]
  },
  {
   "cell_type": "markdown",
   "id": "da11ad7b-f3ae-4fe8-8338-ad5bbcc6d847",
   "metadata": {},
   "source": [
    "Clustering is a method of unsupervised machine learning where data points are grouped into subsets or \"clusters\" based on their similarities, without having prior labels for the groups. The goal is to ensure that data points in the same cluster are more similar to each other than to those in other clusters. Common applications include customer segmentation, image segmentation, and anomaly detection. Clustering techniques, such as K-Means, Hierarchical, and DBSCAN, are often employed depending on the nature of the data and the specific requirements of a task."
   ]
  },
  {
   "cell_type": "markdown",
   "id": "d43c172c-a1ae-462e-8b0b-c2e7d321e664",
   "metadata": {},
   "source": [
    "### Objective"
   ]
  },
  {
   "cell_type": "markdown",
   "id": "1905aff5-7e9e-4ff4-9660-ad11b62081ad",
   "metadata": {},
   "source": [
    "Objective: Our primary aim in this notebook is to employ unsupervised learning techniques to effectively cluster and differentiate between Active Galactic Nuclei (AGNs) and Star-Forming Galaxies (SFGs). By analyzing their inherent features and patterns, we hope to unveil the distinct characteristics that set these two entities apart.\n",
    "\n"
   ]
  },
  {
   "cell_type": "markdown",
   "id": "6b9c88bd-c688-4534-86da-4c35a920d465",
   "metadata": {},
   "source": [
    "---"
   ]
  },
  {
   "cell_type": "markdown",
   "id": "d2f37061-72d3-4397-9923-0097ca338ef0",
   "metadata": {},
   "source": [
    "### Loading the data"
   ]
  },
  {
   "cell_type": "code",
   "execution_count": 1,
   "id": "34dd5eed-45ba-428c-80af-a7f47652e87a",
   "metadata": {
    "tags": []
   },
   "outputs": [
    {
     "name": "stdout",
     "output_type": "stream",
     "text": [
      "        Mstar       qir  COS_best_z_v5\n",
      "3377   8.9292  1.700120        1.99600\n",
      "2801  10.7491  2.734167        0.62929\n",
      "2692  10.7228  2.398995        1.03620\n",
      "1294  10.4868  2.137186        0.67790\n",
      "2658  10.4373  2.271284        1.44240\n",
      "...       ...       ...            ...\n",
      "4144  11.0715  2.611674        1.25919\n",
      "550   10.4194  2.256749        0.79800\n",
      "3719  11.0522  1.640887        1.87480\n",
      "4554  10.8479  2.635950        1.63210\n",
      "1012  10.4509  2.734956        0.97150\n",
      "\n",
      "[2824 rows x 3 columns]\n"
     ]
    }
   ],
   "source": [
    "import pickle\n",
    "\n",
    "# Loading data from pickle file\n",
    "with open(\"mightee3Feat.pkl\", \"rb\") as file:\n",
    "    mightee_data = pickle.load(file)\n",
    "\n",
    "print(mightee_data)  "
   ]
  },
  {
   "cell_type": "markdown",
   "id": "76c6912b-1f24-47ab-a9ae-98126148cfcb",
   "metadata": {},
   "source": [
    "---"
   ]
  },
  {
   "cell_type": "markdown",
   "id": "8abeefc4-b0ea-4696-8d4b-eb5f0a89ea28",
   "metadata": {},
   "source": [
    "### Clustering using KMeans"
   ]
  },
  {
   "cell_type": "markdown",
   "id": "8613b9e9-4334-4e33-95cc-fa8ca85d0fb9",
   "metadata": {
    "tags": []
   },
   "source": [
    "#### Initializing KMeans with Two Clusters:\n",
    "We're setting up the KMeans algorithm to identify two clusters, representing the Active Galactic Nuclei (AGNs) and Star-Forming Galaxies (SFGs). This configuration aims to segment the data into these two distinct categories based on inherent features.\n",
    "\n"
   ]
  },
  {
   "cell_type": "code",
   "execution_count": 2,
   "id": "2d8ac76b-b22e-4bfd-8852-8b4d1efcb0a2",
   "metadata": {
    "tags": []
   },
   "outputs": [],
   "source": [
    "k_optimal = 2"
   ]
  },
  {
   "cell_type": "markdown",
   "id": "9f4389cb-766f-4f1b-9ec7-881177112788",
   "metadata": {},
   "source": [
    "#### Training Kmeans"
   ]
  },
  {
   "cell_type": "code",
   "execution_count": 3,
   "id": "a3f94470-2468-445e-b3b0-be6e964cf2de",
   "metadata": {
    "tags": []
   },
   "outputs": [],
   "source": [
    "from sklearn.cluster import KMeans"
   ]
  },
  {
   "cell_type": "code",
   "execution_count": 4,
   "id": "ec79ac08-e9d9-4bfd-91be-eee297945d84",
   "metadata": {
    "tags": []
   },
   "outputs": [],
   "source": [
    "kmeans = KMeans(n_clusters=k_optimal, random_state=1912)\n",
    "# clusters = kmeans.fit_predict(mightee_data[['Mstar', 'qir']])\n",
    "clusters = kmeans.fit_predict(mightee_data[['Mstar', 'qir']])"
   ]
  },
  {
   "cell_type": "markdown",
   "id": "56c76774-e3e8-41c8-9dbf-a6dfab7f33f8",
   "metadata": {},
   "source": [
    "Now, let us count the number of samples between the two clusters"
   ]
  },
  {
   "cell_type": "code",
   "execution_count": 5,
   "id": "07266e65-ab5b-41f3-b203-e815111a9e49",
   "metadata": {
    "tags": []
   },
   "outputs": [],
   "source": [
    "import numpy as np"
   ]
  },
  {
   "cell_type": "code",
   "execution_count": 6,
   "id": "596a2959-e737-4d95-8290-ebaeca0d65d4",
   "metadata": {
    "tags": []
   },
   "outputs": [
    {
     "name": "stdout",
     "output_type": "stream",
     "text": [
      "2455\n",
      "369\n"
     ]
    }
   ],
   "source": [
    "print( len(np.where(clusters==1)[0]) )\n",
    "print( len(np.where(clusters==0)[0]) )"
   ]
  },
  {
   "cell_type": "markdown",
   "id": "74f84eed-81bd-40ba-a510-59c93370c2e5",
   "metadata": {},
   "source": [
    "### Visualisation"
   ]
  },
  {
   "cell_type": "code",
   "execution_count": 7,
   "id": "45906a81-fb04-4024-9913-4f0a0344569c",
   "metadata": {
    "tags": []
   },
   "outputs": [],
   "source": [
    "import matplotlib.pyplot as plt \n"
   ]
  },
  {
   "cell_type": "code",
   "execution_count": 8,
   "id": "c4a030d0-e4f9-4212-a3ba-60915e0dfdad",
   "metadata": {
    "tags": []
   },
   "outputs": [
    {
     "data": {
      "image/png": "[encoded data removed]",
      "text/plain": [
       "<Figure size 640x480 with 1 Axes>"
      ]
     },
     "metadata": {},
     "output_type": "display_data"
    }
   ],
   "source": [
    "mightee_data['Cluster'] = clusters\n",
    "\n",
    "# mightee_array = mightee_data[['Mstar', 'qir']].values\n",
    "mightee_array = mightee_data.values\n",
    "\n",
    "\n",
    "plt.scatter(mightee_array[clusters == 0, 0], mightee_array[clusters == 0, 1], label='Cluster 0')\n",
    "plt.scatter(mightee_array[clusters == 1, 0], mightee_array[clusters == 1, 1], label='Cluster 1')\n",
    "plt.scatter(kmeans.cluster_centers_[:, 0], kmeans.cluster_centers_[:, 1], s=300, c='red', label='Centroids')\n",
    "plt.legend()\n",
    "plt.show()"
   ]
  },
  {
   "cell_type": "markdown",
   "id": "f31c3aa9-31d0-4b75-ab8f-4242af2532c3",
   "metadata": {},
   "source": [
    "@@@ from the graph above, it appears that the data has two distinct clusters."
   ]
  },
  {
   "cell_type": "markdown",
   "id": "a2dbc4f9-84b1-49ad-bd52-a5653bf4076a",
   "metadata": {},
   "source": [
    "---"
   ]
  },
  {
   "cell_type": "markdown",
   "id": "d77de30e-6d3d-446b-86c1-337e84b3acb0",
   "metadata": {},
   "source": [
    "## @@@@ not sure about this part"
   ]
  },
  {
   "cell_type": "markdown",
   "id": "ba14d5ef-0b44-47ee-94f0-e0aeca63297d",
   "metadata": {},
   "source": [
    "### Testing"
   ]
  },
  {
   "cell_type": "code",
   "execution_count": 11,
   "id": "050c7747-1e65-45c7-9649-8c975027194b",
   "metadata": {
    "tags": []
   },
   "outputs": [],
   "source": [
    "from sklearn.metrics import confusion_matrix, accuracy_score, classification_report"
   ]
  },
  {
   "cell_type": "markdown",
   "id": "32a6bba2-ac7b-44df-a874-b44d47a21b05",
   "metadata": {},
   "source": [
    "KMeans assigns arbitrary labels to clusters, so in binary clustering, the labels may be inverted from the actual ones. If accuracy is below 50%, it's a hint that the labels might be flipped. By using 1-clusters, we're inverting the predicted labels to see if they align better with the true labels, ensuring an accurate performance assessment."
   ]
  },
  {
   "cell_type": "code",
   "execution_count": 12,
   "id": "f53aca86-48db-4e66-b9ca-2372e2fe36e5",
   "metadata": {
    "tags": []
   },
   "outputs": [
    {
     "ename": "AttributeError",
     "evalue": "'DataFrame' object has no attribute 'label'",
     "output_type": "error",
     "traceback": [
      "\u001b[0;31m---------------------------------------------------------------------------\u001b[0m",
      "\u001b[0;31mAttributeError\u001b[0m                            Traceback (most recent call last)",
      "Cell \u001b[0;32mIn[12], line 1\u001b[0m\n\u001b[0;32m----> 1\u001b[0m acc \u001b[38;5;241m=\u001b[39m accuracy_score(\u001b[43mmightee_data\u001b[49m\u001b[38;5;241;43m.\u001b[39;49m\u001b[43mlabel\u001b[49m, \u001b[38;5;241m1\u001b[39m\u001b[38;5;241m-\u001b[39mclusters)\n\u001b[1;32m      2\u001b[0m \u001b[38;5;28mprint\u001b[39m(\u001b[38;5;124mf\u001b[39m\u001b[38;5;124m\"\u001b[39m\u001b[38;5;124mAccuracy: \u001b[39m\u001b[38;5;132;01m{\u001b[39;00macc\u001b[38;5;132;01m}\u001b[39;00m\u001b[38;5;124m\"\u001b[39m)\n",
      "File \u001b[0;32m~/.local/lib/python3.8/site-packages/pandas/core/generic.py:5487\u001b[0m, in \u001b[0;36mNDFrame.__getattr__\u001b[0;34m(self, name)\u001b[0m\n\u001b[1;32m   5480\u001b[0m \u001b[38;5;28;01mif\u001b[39;00m (\n\u001b[1;32m   5481\u001b[0m     name \u001b[38;5;129;01mnot\u001b[39;00m \u001b[38;5;129;01min\u001b[39;00m \u001b[38;5;28mself\u001b[39m\u001b[38;5;241m.\u001b[39m_internal_names_set\n\u001b[1;32m   5482\u001b[0m     \u001b[38;5;129;01mand\u001b[39;00m name \u001b[38;5;129;01mnot\u001b[39;00m \u001b[38;5;129;01min\u001b[39;00m \u001b[38;5;28mself\u001b[39m\u001b[38;5;241m.\u001b[39m_metadata\n\u001b[1;32m   5483\u001b[0m     \u001b[38;5;129;01mand\u001b[39;00m name \u001b[38;5;129;01mnot\u001b[39;00m \u001b[38;5;129;01min\u001b[39;00m \u001b[38;5;28mself\u001b[39m\u001b[38;5;241m.\u001b[39m_accessors\n\u001b[1;32m   5484\u001b[0m     \u001b[38;5;129;01mand\u001b[39;00m \u001b[38;5;28mself\u001b[39m\u001b[38;5;241m.\u001b[39m_info_axis\u001b[38;5;241m.\u001b[39m_can_hold_identifiers_and_holds_name(name)\n\u001b[1;32m   5485\u001b[0m ):\n\u001b[1;32m   5486\u001b[0m     \u001b[38;5;28;01mreturn\u001b[39;00m \u001b[38;5;28mself\u001b[39m[name]\n\u001b[0;32m-> 5487\u001b[0m \u001b[38;5;28;01mreturn\u001b[39;00m \u001b[38;5;28;43mobject\u001b[39;49m\u001b[38;5;241;43m.\u001b[39;49m\u001b[38;5;21;43m__getattribute__\u001b[39;49m\u001b[43m(\u001b[49m\u001b[38;5;28;43mself\u001b[39;49m\u001b[43m,\u001b[49m\u001b[43m \u001b[49m\u001b[43mname\u001b[49m\u001b[43m)\u001b[49m\n",
      "\u001b[0;31mAttributeError\u001b[0m: 'DataFrame' object has no attribute 'label'"
     ]
    }
   ],
   "source": [
    "acc = accuracy_score(mightee_data.label, 1-clusters)\n",
    "print(f\"Accuracy: {acc}\")"
   ]
  },
  {
   "cell_type": "markdown",
   "id": "b7ad8fcb-6def-4a7f-9d64-689dba62c276",
   "metadata": {},
   "source": []
  },
  {
   "cell_type": "code",
   "execution_count": null,
   "id": "a36a3902-759c-4d3a-be0c-17be527eade4",
   "metadata": {},
   "outputs": [],
   "source": []
  }
 ],
 "metadata": {
  "kernelspec": {
   "display_name": "ASTRO-GPU (TensorFlow)",
   "language": "python",
   "name": "astro-gpu"
  },
  "language_info": {
   "codemirror_mode": {
    "name": "ipython",
    "version": 3
   },
   "file_extension": ".py",
   "mimetype": "text/x-python",
   "name": "python",
   "nbconvert_exporter": "python",
   "pygments_lexer": "ipython3",
   "version": "3.8.10"
  }
 },
 "nbformat": 4,
 "nbformat_minor": 5
}
